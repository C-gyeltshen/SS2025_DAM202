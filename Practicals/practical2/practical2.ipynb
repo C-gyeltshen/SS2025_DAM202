{
 "cells": [
  {
   "cell_type": "markdown",
   "id": "76b67d98",
   "metadata": {},
   "source": [
    "# Practical 2\n",
    "\n",
    "## Section 1: Data Preparation\n",
    "\n",
    "**Import Pandas library**"
   ]
  },
  {
   "cell_type": "code",
   "execution_count": 5,
   "id": "aaedd324",
   "metadata": {},
   "outputs": [],
   "source": [
    "import pandas as pd"
   ]
  },
  {
   "cell_type": "code",
   "execution_count": 2,
   "id": "601d3f8e",
   "metadata": {},
   "outputs": [],
   "source": [
    "# Set working directory to current practical2 folder\n",
    "import os\n",
    "ROOT = \"/Users/chimigyeltshen/Desktop/Sem5/DAM202/practical/Practicals/practical2\"  # Your Working Directory\n",
    "os.chdir(ROOT)"
   ]
  },
  {
   "cell_type": "code",
   "execution_count": 14,
   "id": "b54b1d0f",
   "metadata": {},
   "outputs": [],
   "source": [
    "# Opens the text.txt file in read mode\n",
    "\n",
    "with open('text.txt', 'r', encoding='utf-8') as f: # Remember your data set path should be specified if not in same working directory\n",
    "    texts = f.readlines()"
   ]
  },
  {
   "cell_type": "code",
   "execution_count": 3,
   "id": "9c14fe32",
   "metadata": {},
   "outputs": [
    {
     "data": {
      "text/plain": [
       "['README.md', 'text.txt', '.ipynb_checkpoints', 'practical2.ipynb']"
      ]
     },
     "execution_count": 3,
     "metadata": {},
     "output_type": "execute_result"
    }
   ],
   "source": [
    "#import os\n",
    "os.listdir()"
   ]
  },
  {
   "cell_type": "code",
   "execution_count": 4,
   "id": "df7ae387",
   "metadata": {},
   "outputs": [],
   "source": [
    "# Remove the line breaker\n",
    "\n",
    "with open('text.txt', 'r', encoding='utf-8') as f: # Remember your data set path should be specified if not in same working directory\n",
    "    texts = f.readlines()"
   ]
  },
  {
   "cell_type": "code",
   "execution_count": 5,
   "id": "7e373ef7",
   "metadata": {},
   "outputs": [
    {
     "data": {
      "text/plain": [
       "[\"                ALICE'S ADVENTURES IN WONDERLAND\\n\",\n",
       " '\\n',\n",
       " '                          Lewis Carroll\\n',\n",
       " '\\n',\n",
       " '               THE MILLENNIUM FULCRUM EDITION 3.0\\n',\n",
       " '\\n',\n",
       " '\\n',\n",
       " '\\n',\n",
       " '\\n',\n",
       " '                            CHAPTER I\\n']"
      ]
     },
     "execution_count": 5,
     "metadata": {},
     "output_type": "execute_result"
    }
   ],
   "source": [
    "texts[:10]"
   ]
  },
  {
   "cell_type": "markdown",
   "id": "9ff3e8e6",
   "metadata": {},
   "source": [
    "`Data Quality Assessment` by \n",
    "- Counting total documents and total words.\n",
    "\n",
    "- Collecting unique words and their frequencies.\n",
    "\n",
    "- Measuring sentence lengths and average sentence length.\n",
    "\n",
    "- Calculating vocabulary size (unique words count).\n",
    "\n",
    "- Finding the top 20 most frequent words.\n",
    "\n",
    "- Computing quality scores like vocabulary diversity, average word frequency, and rare word ratio."
   ]
  },
  {
   "cell_type": "code",
   "execution_count": 6,
   "id": "9c93b145",
   "metadata": {},
   "outputs": [
    {
     "name": "stdout",
     "output_type": "stream",
     "text": [
      "Total documents: 3,598\n",
      "Vocabulary size: 4,950\n",
      "Unique Words: {'`i--i', 'pencil', 'man,', 'mouth;', 'croqueting', \"begin?'\", 'living', \"you'd\", 'into', 'twentieth', 'asked', 'games', 'sorrows,', 'imitated', 'herself', 'stigand,', 'dear', 'sugar', 'today.', 'pity!\"?\\'', 'for,', \"wasn't\", 'mixed', 'that;', 'i,', 'considering', 'choice,', 'deepest', 'led', \"like?'\", 'just', 'there.', \"story!'\", 'arches', \"pardon,'\", 'hopeful', 'teacup', '`i', 'paris,', '`mouse', 'sink', 'changed,', 'beheading', 'helpless', 'whisper.)', \"girl,'\", 'honest', 'squeezed', 'staring', 'while,', 'rabbit', 'prove', 'feebly', 'deal', 'door--i', 'muttering', 'frog', 'wife;', '\"with', 'chief', 'barking', 'verse', 'open,', \"know--'\", 'tremble.', \"they've\", 'interesting', 'perhaps', 'twelve?', 'pence.', '`hush!', 'closer', \"won't!'\", 'got', 'knowledge.', 'lamps', \"ada,'\", 'pat,', \"present!'\", 'is--\"the', \"outside.'\", 'sat', 'buttered', 'him--it', 'me', 'began:', \"witness,'\", 'through', 'join', 'evening,', \"didn't,'\", 'talking.', 'together:', 'spoken', 'merely', '\"who', '`she', '`\"what', 'silent', 'mouths--and', 'scroll', 'altogether.', \"to,'\", 'any.', 'entangled', 'asking', \"matter,'\", 'edwin', 'bee,\"', 'now--but', 'arms,', 'grammar,', \"from,'\", 'bat,', 'out,', 'getting', \"puzzle!'\", 'engraved', 'repeated,', 'footman.', 'annoy,', \"lessons!'\", 'pointed', 'tea.', 'coaxing', \"tea--'\", 'book-shelves;', 'rubbing', 'pity', \"trying.'\", 'upsetting', 'cheated', 'triumphantly.', 'puzzled.', 'birds!', 'days', 'said:', 'hair!', 'feathers,', 'shelves', 'blow', 'used', \"day.'\", 'twinkled', 'because', 'well.', 'longer', 'ugh,', 'these', 'here,', 'rattling', 'asleep,', 'pinch', 'mineral,', 'sometimes', '`oh', 'taller,', 'sign', 'birds', 'shifting', 'flamingo,', 'peeping', 'mouse--to', 'cats', 'mouse--o', 'happening.', 'managed', 'pleaded', 'fountains,', \"`well!'\", 'stretching,', 'made.', \"me'\", 'effect:', 'her.', 'saucepans,', \"roses?'\", 'then', 'agony', 'manners', 'long,', 'crash', 'wood--(she', 'at', '`wake', \"there,'\", 'up:', \"refreshments!'\", 'dropped', 'butter,', 'locked;', \"was,'\", 'est', \"they're\", 'cushion,', 'tea-time,', 'visit', \"twelfth?'\", 'reduced', 'tougher', 'table', \"hot-tempered,'\", 'lizard,', 'cat', 'passing', 'schoolroom,', 'mournfully.', 'sort.', 'white,', 'woman--', '\"twinkle,', 'breath,', \"majesty!'\", 'cut', \"game's\", 'song', 'song.', 'brought', 'narrow', 'goldfish', \"dear?'\", 'law:', 'eagerly.', \"important,'\", '`flamingoes', 'times', \"puppy's\", 'justice', 'quadrille', 'dinah:', 'fancied', \"done.'\", 'playing', \"then,'\", 'hurry.', \"outside,'\", 'talking:', \"executioner's\", 'thought;', \"mine.'\", 'hair.\"', 'teeth,', 'ridiculous', 'hour', 'oldest', \"game,'\", 'him--how', \"question,'\", 'fills', 'clubs;', \"that!'\", \"tongue!'\", 'summer', 'do', 'she', 'grief,', '`how', 'six', 'eyes--and', 'note-book,', 'circumstances.', 'size,', 'caterpillar.', '`what', 'him:', \"weren't\", 'line:', 'jar', 'indeed', 'stood', 'remarked,', '\"they', 'melancholy', 'lodging', \"idea,'\", 'having', \"is?'\", '`look', 'found', '`let', 'bend,', 'larger,', '`twinkle,', 'replied.', 'high:', 'possibly', \"remedies--'\", 'better', 'father;', 'go', 'poky', 'it;', 'eyes,', 'carrying', 'lose', 'go.', 'pulling', 'duchess.', 'listeners', \"`where's\", 'cannot', 'losing', 'either', 'executed', 'nice', 'recovered', 'cried.', 'enough', 'commotion', 'desperately:', \"figures!'\", \"couldn't\", 'without--maybe', 'talking', 'fancy', \"rabbit's--`pat!\", 'again', 'comfits:', 'once:', 'tittered', 'shrimp', 'slipped', 'timidly;', \"m--'\", 'son,', \"mostly,'\", 'suppose', 'another!', 'hid', 'pressed', '`--i', 'hot,', 'often,', 'decided', 'bill!', 'snail.', 'alarmed', 'fork', 'size?', 'earls', 'true.)', 'replied:', \"alone!'\", \"finished.'\", '`thinking', 'comfortably', 'gardeners,', 'grass', 'fairy-tales,', 'notice', 'dunce?', 'usually', 'grand,', \"others!'\", \"first,'\", 'treacle', 'knee,', 'hurry:', 'love,', 'drinking.', 'moment.', 'cleared', 'own', 'explanation.', 'faster?\"', 'done', 'animals', \"waist,'\", 'meeting', 'little,', 'subject!', 'though.', 'meaning.', 'though', \"yourself.'\", '`until', '`consider', \"person!'\", '*', '`tell', 'ask', 'steady', 'clever', 'pictures', \"off.'\", 'people', 'adventures--beginning', 'when', 'say,', 'worried.', 'opportunity', 'move.', \"dogs?'\", 'flustered', 'alternately', '`the', \"again.'\", '`just', 'around', 'stockings', 'shrinking', 'settling', 'waistcoat-pocket,', 'arm-chair', 'dreadfully', 'straightened', 'knew,', 'this.', '`why', 'appear,', '`speak', 'scaly', 'crash,', 'foot,', 'panting,', '`--that', 'hedgehogs', 'obliged', 'out.\"', '`hm!', \"pig,'\", 'voice', 'to?', 'push', 'sad', 'slates', '`--likely', 'tillie;', 'deeply.', \"sea.'\", \"needn't\", 'invited', 'insult', \"would,'\", 'spoke', 'book,', 'than', 'king.', 'railway', 'jury-box,', 'breeze', 'here!', 'girl', 'wait,', 'answered', 'see', 'feet', \"know.'\", 'worth', \"fancy--who's\", '`after', 'encourage', \"instead!'\", 'hands', 'him,)', \"shorter.'\", '`cheshire', 'cat,', '`his', 'try', 'clearer', 'pardon,', \"yet.'\", \"about,'\", 'bad', 'rearing', 'flown', \"somebody.'\", 'to-day!', 'rate!', 'gained', 'suddenly', \"subject,'\", 'rose-tree', 'eaten', 'twist', 'her;', 'roots', 'seen:', 'squeaking', 'powdered', '`please', 'further:', 'directed', 'honour:', \"then.'\", 'extremely', 'clock', \"story,'\", 'archbishop', 'together.\"\\'', 'washing', \"it,'\", 'expecting', 'whiting', '\"up', 'completely.', \"do,'\", 'whether', 'asking,', 'break', 'hippopotamus,', 'earth!', 'winter', 'alice:', '`thank', 'reminding', '`keep', 'thunder,', 'courage', 'same', 'unhappy', 'sky', \"song?'\", 'air:', 'glass;', '`tut,', 'garden', 'easily', 'seven.', 'smoking', 'silent.', 'alone', 'baby:', 'miss,', 'crocodile', 'sneezed', 'delight', 'mouse', 'after', 'shrink', 'jurors', \"`i'll\", 'curled', 'rose-tree,', 'door;', 'dears!', 'yours', \"`he's\", \"enough!'\", 'side.', 'fellows', 'rome,', 'course--', 'crab,', 'mean,', 'afford', 'enormous', 'daisy-chain', 'follows', 'proposal.', 'earth', 'talk.', 'books,', 'drawling--the', 'moment', 'dear:', \"one,'\", \"house!'\", 'worse', '`is', 'jack-in-the-box,', 'mice', '`pray', 'did:', 'meal,', 'liked,', \"dog's\", 'two', 'curls', \"thimble';\", \"they'll\", 'was,', 'impossible', \"temper,'\", '`swim', 'sea!\"', 'hall.', \"`don't\", 'do,', 'altogether,', 'shower', '\"uglification,\"\\'', 'coaxing.', 'duchess', 'watch', 'bore', 'bank--the', \"is--'\", 'lobster;', 'leaves', 'remarking,', 'mice--oh,', '`there', '`sure', 'conduct', 'grant', 'disobey,', 'more--as', 'riddles.--i', 'fulcrum', 'low', \"little,'\", 'alice!', \"invited,'\", \"first.'\", \"tea,'\", 'mad', 'toffee,', 'adding,', 'certain!', 'wig,', 'caterpillar,', 'shedding', 'week', 'puzzling', 'opened,', 'lost:', 'water,', 'want', 'shook', 'saying,', \"saying.'\", 'much', 'painting', 'anxiously', 'miserable', \"much,'\", 'body', \"removed,'\", 'answer,', 'puzzled,', 'tea--not', \"direction,'\", 'whereupon', 'rising', 'silence.', 'word,', 'is--\"birds', 'lory.', 'tears', \"sisters,'\", 'nearer', 'ancient', \"mad?'\", 'roses', '`when', 'shoes', \"attending!'\", 'bit,', 'unfortunate', 'drawling-master', 'iii', \"business!'\", 'only,', 'turn', 'very', 'guess', 'muttered', 'here;', 'surprise', 'down', '`either', 'anxiously.', 'shutting', \"bit!'\", 'word)', 'does', 'explanation;', 'bird', \"`silence!'\", 'moment:', 'you', 'splendidly', 'dormouse:', \"prizes?'\", 'account', 'means', '`hand', 'baby', \"sorrow?'\", \"bit.'\", 'tried.', 'face--and', 'list,', \"whatever?'\", 'little--\"\\'', 'rate,', 'drowned', 'flame', 'growl,', '`ah!', 'cattle', 'know.', 'full', 'gallons', 'suit', \"doesn't\", '`beautiful', \"axes,'\", 'guinea-pigs', 'counting', '`behead', 'murder', 'hurried', \"you'll\", 'things!', 'globe', 'shock', \"guinea-pigs!'\", 'gravy,', 'footsteps,', 'though),', 'indignantly.', '`orange', 'children,', '`once', \"three.'\", 'indeed:', 'jogged', 'scolded', '`bring', \"you.'\", \"twice--'\", '`fetch', 'me!', \"pardoned.'\", 'together,', 'flew', 'never-ending', 'fly,', \"sir,'\", 'hastily', 'questions,', 'thatched', 'directly.', 'positively', 'strange', 'stingy', 'pocket)', 'marked,', 'hoped)', 'sight;', 'terms', 'cunning', 'wretched', \"it?'\", 'pleased', 'politely:', 'else', '`besides,', 'ventured', 'passage:', 'sobs.', 'doubt,', 'adjourn,', 'nonsense', 'voices--`hold', 'air!', \"nonsense.'\", 'beating', \"us,'\", 'wood.', 'whiskers,', 'fellow!', 'standing', 'pine-apple,', 'voices', 'laughed', \"answers.'\", 'swimming', 'claws', 'master', 'mind,', 'dishes', 'arm-in-arm', \"that,'\", 'said,)', 'finishing', 'happens.', 'place', \"trial's\", '`\"we', 'could!', \"is!'\", 'sleepy,', 'belong', 'worse.', \"see,'\", 'grey', '`--change', \"here?'\", 'out.', \"procession,'\", '`because', 'so,', 'absurd', \"lobster--'\", \"raw.'\", 'pocket', 'reasons.', 'down:', 'one--but', 'animal', 'look-out', 'bright', 'deep', '`would', '`stuff', 'rabbit-hole', 'story.', 'feared', 'shade:', 'case', 'bottle,', 'spectacles', 'be\"--or', 'land', 'x', 'deserved', 'croqueted', 'once,', 'has', 'cheered.', 'dear,', 'fidgeted.', 'other,', 'pigeon', 'banks,', 'temper,', 'little.', 'disagree', 'gryphon:', 'undoing', 'afraid', 'whatever', \"fairly,'\", 'back.', 'gardeners', 'time.)', \"away!'\", 'lady', \"pleases!'\", 'creatures.', 'wide,', \"last!'\", '`poor', 'consider', 'locks', 'think', 'else.', 'itself,)', 'duchess:', 'sometimes,', 'across', 'tea-things', '`come', 'slates.', 'various', \"time.'\", 'london', 'head--brandy', 'multiplication', 'noise', 'label', 'bowed,', '`off', 'ever', 'mercia', 'friend', 'you--all', 'teapot.', 'undertone,', 'subjects', 'nose;', 'desperate', 'house', '`it', 'hastily.', 'go?\"', 'suet;', \"evidence,'\", 'contemptuously.', \"too,'\", '(or', 'beautify', 'too,', 'talk:', 'frighten', 'telling', \"won't,\", 'forgetting', 'neither', \"then!--bill's\", 'fashion,', \"ann!'\", 'inquisitively,', 'underneath', 'consultation', \"day,'\", 'boots', 'flat,', 'man', 'dog', 'tears!', \"answer?'\", 'though,', \"fellow?'\", \"life.'\", \"end,'\", '`go', 'savage', \"concert!'\", 'king,', \"growing.'\", 'their', 'passed', \"stupid?'\", \"better';\", \"lines!'\", \"time,'\", 'move', 'appearance', 'possible', 'lesson-book.', 'v', 'wrong', 'fortunately', 'dreadful', 'each', 'well!', 'eagerly:', 'fit--\"', '`digging', 'mouth', \"figure,'\", 'kitchen,', 'slipped,', 'ferrets', 'went', 'peering', 'languid,', 'go,', 'unable', 'different.', \"`stupid,'\", 'am!', 'world!', 'rest,', 'trembled', 'question,', 'so--and', 'sneeze', \"different!'\", 'seaside', \"like!'\", 'also,', 'feet,', \"`we're\", 'twenty', 'generally', 'sell', 'follow,', 'children', 'plan', 'effect', 'invented', \"hatter.'\", '`explain', 'livery', 'funny', \"mayn't\", \"off,'\", 'crimson', 'incessantly', \"mushroom,'\", 'that!', 'takes', 'listening:', 'cards:', 'suddenly:', 'officers', 'rabbit.', 'twice,', 'whisper', 'natured,', \"jury-box,'\", \"right!'\", 'floor,', 'why', 'introduced', 'held', 'beloved', 'parts', 'must,', 'you!', \"say.'\", 'rustling', 'bats,', '\"french,', 'up,', 'fanned', 'driest', 'of', 'safe', 'no!', 'if', 'swim--\"', 'spite', 'learn', 'row', 'aloud,', 'choked', 'you,', '`really,', 'change', \"`it's\", 'mouths', 'delight,', '\"he\\'s', 'narrow,', \"believe.'\", 'arch', 'normans--\"', 'ring,', \"time!'\", 'execution.', 'further.', \"wouldn't\", 'sand', 'arithmetic--', 'lately,', 'graceful', '`fury', 'be', \"dancing.'\", 'sounded', 'respect.', 'irritated', 'makes', \"so,'\", 'pale', 'ornamented', 'speech,', 'hands,', \"`why?'\", 'do.\"', 'interrupted:', \"railway,'\", 'glaring', 'myself,', 'uneasily,', \"chatte?'\", 'speak,', 'whisper,', '`sh!', 'remarked.', 'pinched', \"asleep,'\", 'rules', 'squeeze', 'therefore', 'mouths.', 'number', 'least--at', 'gloves.', 'dozing', 'ago', \"them--'\", 'death.\"\\'', 'real', 'lap', 'closely', 'distance,', 'head!\"\\'', '(pointing', \"names,'\", 'toss', 'they', 'know--and', 'others.', 'rudeness', 'share', 'pegs.', 'uncomfortable', \"usual,'\", \"marmalade',\", \"won't'\", 'picked', 'stoop?', 'burst', 'pitied', '`really', \"`poison,'\", 'swim', '`up,', 'sang', 'denied', \"him,'\", 'baby;', 'simple', 'clamour', 'listen', 'stamping', 'riper', \"that.'\", 'william', 'ate', 'trusts', 'dispute', \"else's\", \"`you'll\", 'morsel', 'eaglet.', 'that', 'wandering', \"which?'\", 'went.', 'stiff.', 'bring', 'know,', 'by', 'verses', '(we', 'hurry,', 'terribly', 'pencils', \"child!'\", 'shriek', 'please,', 'sneezing', \"on.'\", 'blame', 'raised', 'clapping', \"clearly,'\", 'chin:', 'quarrelling', \"washing?'\", 'late', 'remain', 'chuckled.', 'four', 'tucked', 'knows', \"high,'\", 'fish,', 'dreaming', 'business', 'quite', 'air.', 'like\"!\\'', 'set', 'hedge.', 'watching', 'ridge', 'doubled-up', \"conversation?'\", 'a', 'would', 'hall:', 'chimney,', 'simply--\"never', 'bread-and-butter.', 'snout', \"i've\", \"there's\", 'strength,', 'something;', 'dismay,', 'my', 'upright', \"didn't!'\", 'shyly,', 'guinea-pigs,', 'depends', \"say?'\", 'pale,', 'now', 'addressed', 'flat', \"sea!'\", 'reading,', 'dipped', 'eel', 'friends', '`talking', \"court.'\", 'duck.', \"couple?'\", 'vi', 'fall', 'died', '`well,', 'enough;', 'hungry', \"now!'\", 'grinning', 'faces,', 'answered,', \"far,'\", 'thinking', \"`arrum.')\", 'upset,', 'children;', 'mark;', 'dance?\"\\'', '`explanations', \"`nothing,'\", 'catch', 'nursing', 'pray,', 'fallen', 'brightened', 'room', 'finished.', 'ground,', 'paint', 'paper', 'time,', 'inclined', 'quietly', 'suddenly,', 'ah,', 'queer-', 'distraction,', 'furrow', \"order,'\", 'hopeless', 'certainly:', 'learning', 'say', \"me,'\", 'declared', 'less', 'could', 'wider.', 'cause,', \"story.'\", 'delightful', '`rule', 'hollow', \"say,'\", \"animal's\", \"dear,'\", 'judge,', 'sensation,', 'sun,', \"won?'\", 'wandered', 'soldiers', 'not', 'life', 'believed', 'cause', 'miss', 'trouble,', \"bill,'\", 'hearts,', 'ran.', 'race-course,', 'turtle,', 'natural', 'off', 'figure', 'cats:', 'loudly.', '`--it', 'draggled', 'go!', \"can't\", \"hush!'\", 'tails', 'dormouse.', 'suppressed', 'shared', 'larger', 'serpents!', \"`hjckrrh!'\", 'themselves', \"won't\", 'roast', 'shilling', 'home!', 'company', 'owl,', 'absence,', \"here.'\", 'whispers', 'france--', 'offended.', 'hare,', 'violence', 'jumped;', 'hedgehogs;', 'grunted', \"lobsters!'\", 'lock,', 'name:', \"think--'\", 'choke', 'at!\"', 'slate-pencil,', 'dance?', 'anything;', '`at', 'garden,', 'vinegar', 'that.', 'conclusion,', 'ringlets', \"true,'\", 'see--how', 'sneezes;', 'turtle.', 'laughed,', 'puzzled', 'spoke;', 'and--oh', \"turtle's\", 'remarked:', \"extras?'\", 'turn;', 'messages', '(the', 'magpie', 'middle.', \"telescope.'\", 'course,', 'patted', 'interrupted', 'dropped,', '`than', \"toes.'\", 'serpent;', '`drink', \"caucus-race.'\", 'calling', 'mustard', 'learn!', 'remembered', 'jelly-fish', 'voice:', 'hands;', 'feelings.', 'adoption', 'argument', 'caused', 'thimble,', \"o'clock\", 'same,', 'loud.', 'small.', 'appeared,', 'next,', \"pardon!'\", 'finish,', 'parchment', \"never!'\", 'boxed', 'such', 'shoulders.', 'difficult', \"like.'\", 'going,', 'replied;', 'mind', 'livery:', 'answer.', 'puppy;', 'livery,', 'memorandum', 'chorus.', 'soup', 'air,', 'whiskers!', 'air', '`and', 'thank', 'face,', '`repeat,', 'low.', 'stick,', 'brushing', '`--as', 'time', 'executioner,', 'allow', \"`why,'\", 'sadly:--', 'arms', 'hated', 'them,', 'branches', 'queen,', \"queen?'\", 'day;', '(`i', \"extremely--'\", 'corner', 'dinah,', 'tastes!', 'kill', \"sell,'\", 'croquet', 'skurried', 'fact', 'killing', '`somebody', 'strings:', \"back!'\", \"partner!'\", 'tumbling', 'mistake;', \"william,'\", 'grown', \"little!'\", 'cake,', 'happened.)', '`for', 'her', 'please', 'field', 'corner--no,', 'conversations', 'faster', 'ourselves,', 'licking', '`what!', 'me?', 'shall', 'wondering', 'usurpation', 'sounds', \"`i've\", 'hours,', \"grin,'\", 'forty-two.', 'settled', \"`hadn't\", '`ten', 'knowledge,', 'fish', 'crashed', 'centre', 'true--\"', 'that:', 'loveliest', 'advice,', \"before.'\", 'useful,', 'paws!', 'hate--c', 'repeat', 'frog;', 'argue.', 'courage.', 'pepper', '`advance', 'soft', \"must,'\", \"draw?'\", 'dinn', \"over!'\", \"yet,'\", 'end', 'pour', 'delay', 'left', 'wrong,', '`may', 'teaching', \"ever,'\", 'hiss', 'butter', 'pig-baby', 'permitted', \"beginning,'\", 'flurry', 'solid', \"`unimportant.'\", 'live.', 'cat.)', 'way.', 'procession', 'day,', 'peeped', '`--well', 'obstacle', 'english.', 'porpoise', 'eggs', 'lasted', 'fits,', 'time).', \"bat?'\", 'hungry,', 'remark', \"you're\", 'fit', \"eggs,'\", \"fun!'\", 'muddle', 'bank,', 'clear', 'there,', 'truthful', 'head.', 'white;', \"don't!'\", '(for,', 'crossly:', \"learn?'\", 'trims', 'eggs,', \"never')\", 'glass.', 'about', \"sky-rocket!'\", 'yours:', 'made', '\"coming', 'pigs', 'finished,', 'end!', \"what?'\", 'considered', \"impertinent,'\", \"curious.'\", 'is--oh', \"fact.'\", \"shall!'\", 'coast', 'how', 'grazed', 'aloud.', 'turning', 'are', 'unwillingly', \"let's\", 'sharing', 'answer', '`as', 'usual.', 'lesson', 'them.', 'croquet-ground', 'waiting', \"think.'\", 'way,', 'keep,', 'lessons:', \"ordered';\", 'complaining', 'sea,', 'mouse:', 'encouraged', 'bats', 'received', 'curtseying', 'charges', 'politely;', 'respectful', 'kick', '`please,', 'reason', 'breathe\"!\\'', 'one,', 'not,', 'dears', \"puss,'\", 'hearts', 'things--everything', 'remaining', '_i_', \"watch,'\", 'two:', 'alone.', \"march.'\", '`begin', 'upon', 'flamingo', \"time?'\", 'about,', 'towards', 'knuckles.', \"crazy!'\", 'age', 'finger;', 'sluggard,\"\\'', \"she'll\", 'glass,', \"where.'\", 'cucumber-frames', 'dreamy', 'promised', '`boots', 'we', 'yourself', 'cupboards', 'queer,', 'bawled', 'cautiously', 'memory,', 'business,', 'stuff', 'hung', 'low,', 'existence;', 'hearthrug,', 'much.', '`dear,', 'seen--everything', 'high).', 'skirt,', 'consented', \"feeling!'\", 'alice', 'cat!', 'read:--', '`--and', 'knave,', \"means.'\", 'draw,', 'vanishing', '`exactly', 'prize', 'deeply,', 'night!', 'dish?', \"course?'\", 'door:', 'angrily', 'large,', 'nibbling', 'pity.', 'muchness--', 'quickly', \"old,'\", \"school,'\", 'against', \"can--'\", 'names', 'familiarly', \"pig!'\", 'joys,', 'himself:', \"wood,'\", 'ledge', \"`i'd\", 'tossing', 'patiently', 'tremulous', 'shakespeare,', \"beginning!'\", 'nothing,', 'violent', 'trial,', 'advantage', 'filled', 'us!\"\\'', 'tiptoe,', 'listened,', \"verdict,'\", 'remarks,', 'proud', '\"much', 'falling', 'bread-and-butter,', 'hit', 'arches.', 'kissed', '`right,', 'and', 'tells', 'changing', 'timidly,', 'flower-pot', 'toes', 'lobsters', 'beat', \"happens!'\", 'pet:', 'outside.', 'effect,', 'all.', 'broken.', \"throat!'\", 'began.', 'thrown', '`soo--oop', 'wrote', \"crumbs.'\", 'whiting.', 'queen:', 'would,', '`was,', 'besides', 'fond', 'denial;', 'taken', 'judging', 'tail', 'fall,', 'clinging', 'trial', 'hurry', 'duchess!', 'cries', \"whiting?'\", 'bound', 'the', \"simpleton.'\", 'puzzled.)', 'lived', 'ridges', 'serpents', \"`you'd\", 'her:', \"was!'\", '`ou', 'doubtful', 'doubtfully,', \"holiday?'\", 'chanced', 'paw', 'proved', \"brother's\", 'executions', 'moving', 'trees,', 'ordering', \"curious!'\", 'overhead;', 'guests,', 'owl', '`anything', 'splash!', 'end,', 'nice,', \"i'm\", 'alive;', 'are;', '(if', 'tunnel', 'goose!', 'whistle', 'treading', 'sharply,', \"said,'\", \"think?'\", 'o', 'jumped', 'rope--will', 'great', 'with', 'speak.', 'tricks', 'sighing', 'place,', 'dishes.', 'iv', 'together', 'ground', 'curly', 'dropping', 'which', 'wonderful', 'dodo.', 'thought,', 'shaking', 'tea', 'night-air', \"doing!'\", \"ma'am,\", 'cheered,', \"window?'\", 'first--they', \"pun!'\", 'minutes,', 'part', 'exact', 'journey,', 'sorrow,', 'label,', 'in', '`sure,', 'escape,', 'patriotic', '(she', 'somehow', 'low-spirited.', 'hurt,', 'accident', 'name', '`turn', \"way?',\", 'poured', 'experiment', 'snatch', 'hatter', 'voice.', 'truth:', 'get', 'otherwise', 'settle', 'off;', 'carefully,', \"me?'\", 'show', 'us.', \"teases.'\", 'hide', 'room,', 'beast,', 'reply,', \"know!'\", 'this;', 'crying', 'telescopes:', \"confusing.'\", 'returning,', 'yours.\"\\'', 'ointment--one', 'alas', 'even', \"sing,'\", \"treacle-well.'\", 'give', 'bat!', 'laughing:', 'only', 'next!', 'birds,)', 'uncommonly', 'two.', 'sobs', 'march,', 'pocket,', 'remark,', 'involved', 'examining', 'person', '\"it\"', 'asking!', 'hundred', 'trees', \"`creatures,'\", 'walked', 'rapidly:', 'roses.', 'difficulty', 'next', 'tail;', 'duchess;', 'pop', 'hare,)', 'thing,', 'taste', 'yesterday', 'house,', 'cheeks,', 'meet', \"fellow!'\", 'saves', 'itself,', 'you?', \"cup,'\", 'doors', 'seems', 'yet', 'tea-tray', 'that--only', 'creature', 'rushed', 'meat,', 'more.', 'most', 'size', 'sixpence.', 'distance--but', 'bread-and-butter', 'song,', 'reaching', 'a-piece', 'saucepan', 'herself,', 'neighbouring', 'wander', \"right?'\", \"they'd\", \"maybe,'\", 'argued', 'animals,', 'other', \"dull!'\", 'william,\"\\'', '`sentence', \"judge,'\", 'cart-horse,', 'me,', 'spread', 'other;', 'welcome', 'inkstand', 'flung', 'guinea-pig', 'advice', 'things--i', '`--but', 'sooner', 'gloves', 'accounting', 'shrieked', 'thing.', 'arm,', 'exclaimed,', \"carrier,'\", 'using', 'latin', 'minute.', \"dormouse,'\", 'comes', 'creature,', 'character,', \"`wouldn't\", 'easy', 'ashamed', 'sister;', 'flappers,', 'dig', 'marched', 'added,', 'aloud;', 'heard', 'hurriedly', 'himself', 'surprise.', 'snail,', 'finger,', 'sorrowful', \"weeks!'\", 'jury,', \"that's\", 'moon,', 'belongs', 'bread-', 'history', 'edition', 'them--`i', 'shrill,', 'smallest', 'timid', \"`here!'\", 'kid', 'sight', 'favourite', 'letters.', 'too:', 'conquest.', \"whiskers!'\", '`take', 'uncorked', 'hint;', 'slowly,', '`mine', 'party.', 'mistake', 'direction', 'atheling', 'high.', 'white', 'bit', \"course,'\", 'canterbury,', \"i'll\", 'pleased,', \"be?'\", 'flowers', 'royal', 'sulky', 'flavour', 'dodo,', 'eyes:', 'day.', 'snail', 'trumpet', 'jury,\"', 'cry', 'nothing:', 'crouched', \"bill's\", 'impatiently:', 'ask.', 'as', 'furiously,', 'shark,', 'indeed:--', 'to', \"rabbit's\", \"moment!'\", 'decidedly', \"sort!'\", 'brave', 'gone', 'afore', 'lying', 'surprised', 'tail.', 'this),', 'you,\"\\'', 'interest', 'candle.', 'mallets', 'shriek,', 'seven', 'blasts', 'yet--and', 'unrolled', 'suppress', \"pace,'\", 'turtle--we', 'trying', 'treated', \"ears--'\", 'asleep', 'hear', 'i?', 'difficulties,', 'fat;', 'tail,', 'present', 'station.)', 'ix', 'squeaked.', 'why.', '`seals,', \"this,'\", 'no,', 'vanished.', 'person,', \"prizes!'\", 'course;', 'shingle--will', 'cushion;', 'waited', 'presently', 'beau--ootiful', '`then,', 'ladder?--why,', 'itself', 'hearth', 'heap', 'applause,', 'was', 'inside,', 'laughter.', '`till', 'within', 'bend', 'spoke,', 'rightly', \"english,'\", '`living', 'upstairs,', 'natural);', 'voice--the', 'swallowed', 'executioner:', 'others', 'ones', 'words:', 'velvet', 'which),', 'leaning', 'thoughtfully:', 'conclusion', 'promising,', \"did!'\", 'nile', \"`dinah's\", 'prisoner', 'home', 'moment,', \"offended!'\", 'wash', 'paused', \"queen's\", 'least', \"one?'\", 'twenty-four', 'leant', 'themselves.\"\\'', 'with.', 'seeing', 'hedgehog', '\"\\'tis', '`perhaps', 'heels', 'think!', 'save', 'luckily', \"perhaps,'\", 'throne', \"`it's--it's\", 'let', 'courage,', 'away,', 'height.', \"isn't\", 'take', 'sisters--they', \"toes?'\", '`they', 'then--always', 'solemnly.', 'vii', 'sneeze,', '\"purpose\"?\\'', 'persisted.', 'lazily', 'alas!', 'then?', 'march', \"cat's\", 'plate', '(it', 'splashed', '(a', 'subject', \"prison,'\", 'by--the', 'thick', 'digging', 'ever;', 'choosing', 'begun', \"really?'\", 'machines', 'gryphon.', \"afterwards.'\", 'dark', 'singers.', 'bottle.', 'red', 'shut', \"morning,'\", '`unless', 'lessons', 'near.', 'long', \"once.'\", 'been.', 'lobsters,', 'faint', 'canvas', 'nest.', 'since', 'invitation', 'folded', \"quadrille?'\", 'wore', 'water', 'bitter--and--and', \"suppose?'\", \"yet!'\", \"well--'\", 'again--\"before', '`oh!', 'noticed', 'strange,', 'front', 'mine', 'slates,', \"them!'\", 'english);', 'indignant', \"grin.'\", 'repeated', 'besides,', 'plainly', 'tide', 'respectable', 'stretched', \"size,'\", 'exclaimed.', 'footman', 'soup,', 'bright-eyed', 'loose', 'milk-jug', 'officers:', 'ugly', 'court.', 'tarts?', 'juror', 'you--are', 'over', \"`idiot!'\", 'piteous', 'cross,', 'birthday', 'end:', 'get\"', \"idiotic!'\", 'faces.', 'grand', 'folding', 'again.', 'affair,', 'inquired', 'tulip-roots', 'rise', 'creep', 'well,', 'walking', \"things!'\", \"go,'\", \"down!'\", 'fireplace', \"sad?'\", 'from', 'gloves:', 'trampled', 'stop', 'tone.', 'addressing', \"caterpillar's\", 'look!', 'state', \"window.'\", 'open', 'talk', 'known', '[later', '\"poison\"', 'frying-pan', \"watch!'\", 'shoulder,', 'course', 'interesting,', 'make', \"hasn't\", 'heart', 'thin--and', 'draw', 'screamed', 'acceptance', 'millennium', \"hat,'\", 'think:', 'occasional', 'sprawling', 'that,', 'walk', 'were', 'variations.', 'important', 'see:', \"star-fish,'\", 'handsome', 'beautifully', \"together.'\", 'mostly', \"adventures.'\", 'ordered', 'edgar', 'wise', 'weak', \"majesty,'\", '`did', 'way:--', 'chimney', 'on?', \"don't\", 'helped', \"egg!'\", 'banquet--]', 'for?\"\\'', '`all', 'happened.', 'writhing,', 'queer-looking', 'sobs,', 'stopping', 'away', \"sea,'\", 'failure.', 'joined):--', 'leap', 'replied', 'hurry;', 'began', 'procession,', 'back-somersault', 'were.', \"yourself!'\", 'trickling', \"oyster!'\", 'timidly', '`stand', \"majesty?'\", 'violently', 'golden', 'altogether', 'ignorant', 'life;', 'suppressed.', 'boon,', 'coming', 'rosetree;', 'mouths;', \"court!'\", \"something!'\", 'people!', 'knew', '`your', \"`you're\", \"t!'\", \"less,'\", 'panted', 'dried', \"now?'\", '(before', 'hand', 'yelp', 'particular;', 'either,', 'shake', 'advisable--\"\\'', 'finding', 'teacups', 'became', 'knife', 'somersault', 'every', \"jaws!'\", 'bowed', 'yesterday,', 'panther', 'trembling', 'submitted', 'sobbed', '`mary', 'dream.', 'swim,', 'kiss', 'telescope!', 'our', 'ceiling,', 'feather', 'march--just', 'worry', 'smiled', 'sure,', 'complained', 'again:--', \"verses.'\", 'soo--oop', 'first--verdict', 'key', 'written', 'dead', 'carroll', 'dance.', 'bad,', 'timidly.', 'impatient', \"proceed,'\", 'trying,', \"bread-knife.'\", 'offend', 'rat-hole:', \"cakes,'\", 'out-of-the-way', 'keep', 'happens;', \"alive!'\", 'foot!', 'remarked;', 'brush,', 'wide', 'elbow', 'walk!\"', 'sorts', \"for?'\", 'foot.', 'tut,', 'cost', 'sort', 'once.', 'slowly', 'swim.', 'king;', 'as,', 'muscular', 'all!', 'legs', 'send', \"unimportant--important--'\", 'cheap', \"waiting!'\", 'knelt', 'meanwhile', '`soles', 'shillings', \"much!'\", 'hatching', \"`nonsense!'\", 'back', 'particular', 'dry', 'farm-yard--while', 'growing', 'turtles,', 'rubbed', 'five!', \"turtle.'\", 'on:', 'day-school,', 'mary', \"cat,'\", 'xi', 'reasonable', 'soon.', 'readily:', 'offended', \"things?'\", 'remark.', 'heavy', 'shape', \"question?'\", 'alarm.', 'off,', 'silence', 'angry,', 'alice)--', \"`let's\", 'fading', \"sir--'\", 'himself,', 'mad,', 'dates', 'sharks', 'nodded.', 'wow!', 'nobody,', 'again:', \"coward!'\", 'knave.', 'pattering', 'turkey,', 'change:', 'unlocking', 'had,', \"housemaid,'\", 'expressing', 'hardly', 'ready?', 'along', 'twinkle--\"\\'', 'it.)', 'uglification,', 'run', 'well', 'no', \"them.'\", 'pigs,', 'speech.', 'ever:', 'mine--a', 'quadrille,', 'gloomily:', 'with,', 'upset', 'grin', \"crumbs,'\", '`by-the-bye,', 'box', 'minute', 'cook', 'invent', 'porpoise?\"\\'', 'saw.', 'proper', \"know?'\", 'improve', 'comes,', 'waters', 'added', \"not?'\", 'gather', 'tell', \"tortoise--'\", 'voice;', \"mad.'\", 'queerest', 'must', \"together!'\", 'paper.', 'outside,', 'barley-sugar', 'neighbour', 'law,', 'beautiful', '`collar', \"first!'\", 'alice,)', 'also', 'minute,', 'children.', 'fellow?', 'offended,', 'cold', 'sun.', 'pool', 'telescope', \"clever?'\", 'next.', 'below', 'sky!', 'tops', 'chin', 'hold', 'daughter', 'absurd,', 'question;', 'should', '`which', 'presents', \"verse.'\", 'sneezing,', 'can', \"coils.'\", 'means,', 'taught', \"away,'\", 'advise', 'sneezes:', 'queen!', 'scale!', 'passage', '`drive', 'length', \"for.'\", 'somebody,', 'swallow', 'vulgar', 'ferrets!', 'turns,', 'stupid', 'fright', 'doubling', 'directions', \"mine,'\", 'perfectly', 'dull', 'fury,', 'arrow.', 'sound.]', '`we', \"trial.'\", 'kitchen.', \"it'll\", 'first;', 'lark,', \"you!'\", 'bent', \"head's\", 'terror.', 'game', \"william's\", 'queens,', 'curtsey', 'tipped', \"bed!'\", 'stirring', 'garden:', 'humbly;', '`no,', 'voice,', 'wags', 'whom', '\"there', 'know--no', 'did', '`two', 'changes', 'fainting', \"whatever,'\", 'flinging', 'chapter', \"to.'\", 'daresay', 'wet,', 'taking', 'usual,', 'am', 'wanted', \"late!'\", 'him,', 'passed;', 'canary', 'arguments', 'elegant', 'fine', 'bough', \"manage?'\", 'fitted!', 'pepper-box', 'thoughtfully.', 'yawning', 'stole', 'grave', 'work,', 'shrieks,', 'pigeon;', \"bit,'\", '`wow!', 'head', 'fancying', \"means--to--make--anything--prettier.'\", 'gay', 'tears,', 'beheaded,', 'asleep.', 'to,', 'foolish', 'blades', 'paris', 'turns', 'rabbit:', 'creatures', 'tight', 'close,', 'side,', 'is', 'spectacles.', 'eyes', 'jury.', 'might,', 'secondly,', 'milk', 'vague', 'night', 'someone', 'doth', 'steam-engine', 'short', 'right-hand', 'around,', '`prizes!', 'nonsense.', 'fancy,', 'brown', 'dance', 'assembled', '\"i\\'ll', \"`she'd\", 'duck:', 'table.', 'affectionately', 'contempt.', 'boldly:', \"'em\", 'immediate', 'trumpet,', 'climb', 'bottle', 'not.', 'it', \"witness!'\", 'those', \"curiouser!'\", 'cheerfully', \"hedges,'\", \"'tis\", 'attends', \"before,'\", 'too', 'so', 'king', 'before,', 'up', 'mabel!', 'plan,', 'soup?', 'twinkling', 'reading', \"home?'\", \"mouse!'\", 'tree.', 'busily', 'rabbit-hole--and', \"here!'\", 'reply', \"head!'\", '`any', \"longer!'\", 'mad--at', 'fit)', 'lazy', 'neat', '`if', 'throwing', 'educations--in', 'tarts', \"we're\", 'happen', 'currants.', 'mouse--a', \"a--i'm\", 'muchness\"--did', \"fun?'\", 'turned', \"with.'\", 'sudden', 'fur.', \"does.'\", 'tureen!', \"`can't\", 'immediately', 'overcome', \"find?'\", 'audibly.', 'be,', 'exclamation', \"child,'\", 'under', '`leave', '`call', 'elbows', 'confusion,', \"beheaded!'\", 'washing--extra.\"\\'', \"king's\", 'e--e--evening,', \"up!'\", 'zealand', 'say.)', \"dear!'\", 'rustled', 'esq.', 'heads.', 'herself;', 'sound', 'hoarse', 'missed', 'caucus-race', \"seems,'\", 'magic', 'drunk', 'letter,', 'somebody', \"to?'\", \"now,'\", 'good,', 'sensation', 'darkness', \"do.'\", \"me.'\", 'soup,\"', 'frog-footman', \"said--'\", 'deny', 'old,', \"everything's\", 'angry.', 'shore,', 'placed', \"nose';\", 'chance', 'stoop', 'guess,', 'somewhere', 'wood', 'unusually', 'nose--', 'learnt', \"music.'\", 'ear,', 'nose', 'tea;', \"with?'\", 'finger', 'backs', 'came,', 'mouse.', 'kick,', \"done,'\", 'labelled', 'sneezing.', 'middle', 'them--and', 'seldom', 'list', 'this:', 'purple.', 'eyes;', 'tale', 'sure!', 'however,', 'cat:', 'lullaby', 'conqueror,', 'sulkily', 'general', 'pool,', 'edge', \"part.'\", 'apples,', 'afterwards,', 'particular.', '`write', 'dream:--', '`--or', 'severely', '`only', 'pretend', 'guard', 'sleep\"', 'abide', 'looked', 'crept', 'knowledge', 'silence:', \"twinkle--'\", 'later.', \"cutting,'\", 'brain;', 'given', 'accident,', 'your', 'difficulty,', \"know,'\", 'extraordinary', \"myself.'\", 'crab', 'eyes.', 'cares', 'impatiently;', 'surprise,', 'tone:', 'tired', 'unless', 'home;', 'lives.', \"trouble!'\", '`w.', 'doorway;', 'looking-', 'game,', 'antipathies,', 'solemnly', 'lips.', 'soldiers,', \"either!'\", \"mystery,'\", 'oh,', 'turtle;', 'pink', 'corner,', 'whistling.', 'everything', \"table,'\", 'wet', 'tasted', 'one!', \"partners--'\", 'places--', 'undo', \"honour!'\", 'quietly,', 'tale,', 'fifteen', \"remarks,'\", 'can;', \"cats!'\", \"were',\", 'understand', 'hint', 'severely.', \"room!'\", 'sorry', 'knowing', 'in:', 'begin', \"off?'\", '\"such', \"heads!'\", '`but,', 'new', 'waving', \"wrong!'\", 'gone,', 'bleeds;', 'instead', 'liked', \"`very,'\", \"experiment?'\", 'eagerly,', 'child,', 'what', 'butterfly,', 'speed', \"dinn--'\", 'arranged;', '`certainly', 'constant', 'ground--and', 'practice', \"onions.'\", 'harm', 'goes', 'salmon,', 'eagerly', 'frightened', \"queen!'\", \"day!'\", '`now,', 'key,', 'different,', \"fig?'\", 'needs', 'hastily;', 'introduce', 'are,', 'before.', 'everybody', '`one,', 'anxious', 'cauldron', \"duchess's\", 'seated', 'knot,', 'clean', '(for', 'engaged', 'down.', 'scratching', 'plates', 'couples:', 'this', 'will', 'manner,', 'going', 'crawling', 'am,', 'waistcoat-', 'theirs,', 'wonderland', \"it's\", 'minded', 'nose.', 'giving', '`pepper,', 'signed', 'relieved', 'occurred', 'duchess,', '\"come', 'shoulder', 'sour--and', 'was:', 'straightening', 'louder', 'plate.', 'much,', 'frowning,', 'boy--and', 'diligently', 'conger-eel,', '`important--unimportant--', 'soldier', '`not', 'none,', 'happen,', '(sounds', 'larger:', \"whiting!'\", \"that?'\", \"be!'\", 'mock', 'planning', 'lonely', 'shut.', 'says', 'ought', 'modern,', 'newspapers,', 'chimneys', 'paws.', 'wildly', 'execution--once', 'thoroughly', \"(`that's\", 'printed', 'managed?', '(look', 'rapped', 'growing,', 'unjust', 'least,', \"more!'\", 'despair', \"she's\", 'like', 'instantly', \"yet?'\", 'ask!', \"talking!'\", \"creatures,'\", 'game.', 'spectacles,', 'hall', 'month,', 'chorus,', 'particular--', 'tongue,', 'good-bye,', 'why,', 'nurse--and', 'day', 'felt', 'anywhere', 'shoulders,', 'locks,', 'turtle', 'lewis', 'have', \"sister's\", 'hope', 'history,', 'night?', '`everybody', 'opening', 'red-hot', \"jury--'\", 'three', 'yer', 'honour,', \"plan.'\", \"through,'\", \"you,'\", 'repeating', 'nibbled', 'best,', 'mouth,', \"isn't,'\", 'enough--i', '`can', 'tone;', 'loud,', 'eye;', 'smile.', 'nurse!', 'unfolded', 'ran', 'sea.', \"`you've\", \"warning,'\", 'comfort,', 'it?)', 'head:', 'act', \"stuff,'\", 'eye,', \"mind.'\", 'search', \"well,'\", 'showing', 'elsie,', 'five', 'sing', 'fire,', 'gryphon;', 'think,', 'indeed,', 'on;', \"chimney!'\", 'persons', \"sir'\", 'noticing', 'win,', 'own.', \"a--'\", \"mind,'\", 'shouting', \"`that's\", 'anxious.)', 'remarkable', '\"edwin', \"alice's\", 'mustard-mine', 'matter', 'worm.', 'or', 'rabbit!', \"whiles.'\", 'age,', \"these?'\", '`my', 'grass,', 'askance--', \"places!'\", 'alarm', \"dreadful,'\", '`on', 'pounds!', 'hoarsely', 'shore.', 'english,', 'understood', 'tea,', 'bill,', 'more,', 'treat.', 'to-night,', 'back,', \"to-day?'\", 'cross-examine', 'rush', 'him;', 'whispered,', 'sleepy', 'doze;', 'appeared.', 'wind,', 'moral,', 'mushroom', 'tree', 'any', 'eleventh', 'meekly:', 'happy', 'pool?', 'over)', 'right;', 'stalk', \"business,'\", 'come', 'daisies,', 'hair', 'sight:', \"indeed!'\", \"`dinah'll\", 'vote', 'garden--how', 'wriggling', \"`shan't,'\", \"to--'\", 'wish', \"soup!'\", 'down,', 'hearing.', 'already,', 'dripping', 'thought', 'while', 'eat', 'down!', 'temper', \"shan't\", 'almost', 'queen.', \"annoyed,'\", \"window!'\", 'dream,', 'time.', \"is,'\", 'executioner', 'hurrying', 'always', 'off.', 'trial:', 'puppy', '`whenever', 'rate', \"wits!'\", \"dormouse's\", 'out', \"`what's\", 'spell', 'directly,', 'straight', \"slates'll\", 'mouse?', 'beak--', '`nothing', \"what's\", 'might', 'call', 'eaglet,', '`are', 'haste,', \"be,'\", \"stay!'\", 'little', 'folded,', 'reason,', 'trotting', 'cur,', 'small,', \"home,'\", 'quick', 'voice:--', '`get', 'head,', \"english!'\", 'slate--oh,', 'words', \"one's\", '(dinah', 'doubtfully:', 'pass', '`their', 'snorting', 'nowhere', 'it:', 'slightest', 'flashed', \"no!'\", 'nearer,', 'expression', 'usual', \"that'll\", 'atom', \"say!'\", 'yawned', 'fan!', 'promise.', 'pause:', 'uncomfortably', 'does.', 'pebbles', \"afraid,'\", 'unpleasant', 'fish-footman', 'pleasure', \"again?'\", 'threw', 'manner', 'face', 'middle,', 'pack,', 'size;', 'stopped', '`back', 'crown.', 'execute', 'reply.', 'downwards,', 'looking', 'circle,', '`a', '\"william', 'and,', 'stuff?', 'picture.)', 'french', 'rattle', 'dormouse,', 'grinned', 'geography.', '\"you', 'box--', \"fashion.'\", 'lacie,', \"butter,'\", 'nicely', 'meekly', \"rude.'\", 'two--\"', \"yet--it's\", 'anger,', 'patience', '`each', \"doing?'\", '`stupid', 'fluttered', 'nervous,', 'lad!--here,', 'sage,', 'glass', 'gave', 'custody', 'cucumber-frame,', 'corners:', 'child-life,', 'shouted', 'xii', 'write', 'happens', 'oneself', 'serpent.', \"`serpent!'\", '`read', \"`sixteenth,'\", 'round!\"\\'', \"handwriting?'\", 'fight', 'past', 'nothing.', \"indeed,'\", 'but,', 'all', 'knife,', 'court,', 'is!', 'accidentally', 'now?', 'high', 'above', 'throw', 'brown,', 'had', 'few', 'personal', 'deal:', '`chorus', '`suppose', 'an', 'tortoise,', 'two,', 'northumbria,', 'feel', 'mine,', \"d,'\", 'speak', 'last', '`give', 'balanced', \"shouldn't\", '\"i', 'chose', 'fly;', 'come,', 'interrupted,', 'furious', \"christmas.'\", 'succeeded', \"better.'\", 'spreading', 'courtiers,', 'pray', 'cautiously:', 'catching', 'raven', 'reach', 'old', 'drive', 'holding', 'declare', 'but', 'series', 'rats', 'cat.', 'entirely', \"bird,'\", 'raising', 'pigeon,', '`consider,', 'denying', \"now--don't\", 'eels,', 'till', \"this?'\", 'distant', \"on?'\", 'declare,', 'skimming', 'crawled', 'advance', 'water.', 'bristling', 'crash)--`now,', \"is.'\", 'ordered.', 'lory,', '`--so', 'histories', 'over;', \"you've\", \"perhaps?'\", 'pat!', 'ambition,', 'knocked.', 'jurymen', '`nine', 'sharply', 'pause.', \"say--that's\", 'nearly', 'moral', 'treacle-well--eh,', 'drawling,', \"bill!'\", 'near', '(with', 'beating.', \"tale!'\", \"he'd\", 'tarts,', 'entrance', 'reeds--the', 'righthand', 'ran;', 'door', 'sigh.', 'secret,', 'cat;', 'beauti--ful', 'month', 'fishes', 'gravely,', \"sea-shore--'\", 'after-time,', 'itself.', 'glass.)', 'help', 'buttercup', 'imagine', 'speaking,', 'put', \"speaker,'\", 'blown', 'coming.', '`same', \"meant,'\", \"`you!'\", 'fixed', \"tasted--'\", \"verse,'\", 'attending', 'vanished', 'court!', 'interrupting', 'civil,', \"baby?'\", 'tea-party', 'it.', 'paw,', 'rather', \"works!'\", 'rumbling', '(alice', 'dish', 'otherwise.\"\\'', '`sit', '`--for', 'politely', 'baby,', 'claws,', 'top', 'seemed', 'left,', '`silence', 'free', \"see!'\", \"certainly,'\", 'fond--of--of', \"`yes!'\", 'then--she', 'thunderstorm.', '3.0', 'hurt', 'instantly,', 'moved', 'curtain', 'first.', \"alice!'\", 'scrambling', 'evidence', \"axis--'\", 'persisted', 'refused', 'wooden', '`or', 'for', 'rises', 'ann,', 'pigeon.', 'venture', 'best', \"heard!'\", \"knot!'\", 'anger', 'drawing', 'bear?--mind', 'fumbled', 'if--if', 'oh!', 'proves', '`nor', 'saucer', \"witness.'\", \"derision.'\", \"in?'\", \"man.'\", 'sticks', 'thousand', 'running', '`yes,', 'eyes.--`tell', 'collected', 'round,', 'fire-irons', 'sentenced', 'goose,', 'pointing', \"other.'\", \"end.'\", 'sight.', 'last,', 'spoon', 'sir,', 'dear!', 'table:', 'baked', 'die.', '(and,', 'spoke--fancy', 'three,', 'balls', 'said;', 'common', 'thistle,', 'half-past', \"escape!'\", 'broken', 'solemn', 'sharply;', 'think;', 'growled', 'purring,', 'good-', 'is--\"be', 'ye;', \"whiting,'\", \"thimble,'\", 'fright.', 'yet,', 'smoke', 'size:', 'breathe', 'nervous', 'trouble', 'exactly', 'continued,', 'sentence', 'officer', 'fanning', '`--yes,', 'lest', 'shrill', \"wow!'\", 'bones', 'disgust,', 'thanked', 'deeply', 'feelings', 'never!', 'purring', 'sizes', 'happened,', 'said,', 'dodo', 'leaves:', 'shorter,', 'leave', 'morning?', 'tones', 'hatter;', '`have', 'mad.', 'bringing', 'gloves,', 'hare:', 'dodged', 'dream', 'toys', 'knave', 'did,', '`--mystery,', \"her,'\", \"fourth.'\", 'whole', 'pulled', 'airs!', \"below!'\", 'faintly', 'dears?', 'word', \"book,'\", 'dinner,', \"pocket?'\", 'speech', 'spades,', 'queer', \"`fifteenth,'\", 'humble', 'cup', 'dare', 'footmen,', 'years,', \"`--where's\", 'porpoise,', \"bats?'\", \"`ugh!'\", 'scream', '`three', 'thing', 'large', 'nobody', 'true):', 'year', 'shoulders', 'meant', 'all;', 'listening,', 'triumphantly,', 'between', 'uncivil.', 'provoking', \"`they'd\", 'grumbled:', '--the', 'to--to', 'stays', '\"too', 'hers--she', \"do?'\", '`o', 'returned', \"serpent?'\", 'sides', 'best.', 'disappeared.', 'father', 'minutes.', 'came', '(which', 'angrily:', 'flying', 'awfully', 'rapidly;', 'curiosity.', 'tea-time.', 'inches', '(though', \"off--'\", 'on.', 'pleasant', \"shan't!\", 'asked.', 'hatter.', \"`alice!'\", 'life!', \"accusation!'\", 'pack', 'guessed', 'capering', 'gazing', \"so.'\", 'surprised,', 'ringlets,', 'way--never', 'soothing', 'tortoise', 'rabbit,', 'all:', 'thoughts', 'thistle', 'learned', \"mouse!')\", 'accounts', 'twelve,', 'comfits,', 'ears', 'dry,', \"you?'\", 'sends', 'disappeared;', '`shy,', 'eye', 'mushroom,', '`ah,', 'beginning', \"it--'\", 'flamingoes,', 'several', 'croquet-ground.', '`of', 'caterpillar;', \"i--'\", 'loving', 'diamonds,', 'prevent', '`this', 'thirteen,', \"tomorrow--'\", 'follow', 'brass', 'away:', 'angrily,', 'kings', 'downward!', 'disappointment', \"dinner!'\", \"finished,'\", \"cats?'\", 'read', '`so', 'scream,', 'along--`catch', 'tried', 'sharp', 'believe', 'civil', 'high,', 'red.', 'height', 'injure', 'father,', 'decidedly,', \"knocking,'\", 'leading', '`change', '`unimportant,', 'is--\"oh,', 'moved.', 'forget', 'school', 'cakes', 'exclaimed', 'stairs.', 'mouse--of', \"prisoner's\", 'jaw,', \"ma!'\", 'salt', \"likes.'\", 'agree', 'stupid),', 'uncommon', \"think,'\", 'him),', 'beautiful,', 'change,', 'there', 'indignantly,', 'kettle', 'stairs!', 'twinkling!', 'lastly,', 'checked', 'carry', 'pairs', 'eat\"', \"executed.'\", 'sulky,', 'bottom', 'immense', \"nonsense,'\", \"mean,'\", 'buttons,', \"getting!'\", 'thought),', '`allow', 'soo--oop!', 'may', 'things,', '(luckily', 'way!', 'twelve', 'week:', 'use', 'round.', 'touch', 'generally,', \"`jury-men'\", \"had!'\", \"history,'\", 'ten', \"not';\", 'stop.', 'that?--it', 'wearily.', 'curving', 'turn-up', \"nothing.'\", \"wig.'\", \"`once,'\", 'linked', 'good', 'ear.', 'doubt', '`twenty-four', 'still', 'sadly', 'lessons,', 'fan', \"enough,'\", 'stupidly', 'then,', 'able!', 'garden.', 'family', '`hold', \"stop.'\", 'forgotten', \"shoes.'\", 'far!\"', 'won,', 'understand.', 'garden.\"\\'', 'begin,', 'tongue', \"duchess?'\", \"next!'\", \"shoes!'\", 'attempted', 'smile:', 'see,', 'double', 'young', 'leaving', 'resource,', 'alice;', 'hoarse,', 'further', 'quiver', 'ending', 'pleasanter', 'pig', 'happened', \"where--'\", 'otherwise,', 'signifies', \"are!'\", 'more', 'do.', 'undertone', 'witness.', 'prosecute', 'become', 'passion,', 'used--and', 'distance.', 'remembering', '`then', \"didn't\", 'morcar,', 'cakes,', 'appear', 'sit', \"she'd\", 'head--', 'child:', 'wept', 'faster,', 'mouse-traps,', 'proceed.', 'england', 'bells,', 'smiling', 'forehead', 'pool--she', \"explained,'\", 'hot', 'changed', 'handed', 'again.)', 'kneel', 'classics', 'putting', \"queen,'\", 'once', 'lit', \"one.'\", 'confused', 'wonder', 'head!', 'bathing', 'little!', 'english', \"somewhere.'\", 'loud', 'guests', 'us,', 'different', 'below,', '`but', 'neatly', 'he', \"here,'\", 'remarked', 'eating', \"altered.'\", 'largest', 'plenty', \"`stolen!'\", 'present--', 'sigh:', 'sitting', 'hoping', 'bother', 'often', \"`who's\", 'angrily.', 'insolence', 'lizard)', 'care', 'curious', \"hand,'\", 'who', 'untwist', 'grunted,', \"lady,'\", 'direction,', \"hedge!'\", \"talk!'\", 'people.', 'confused,', '\"what', 'fountains.', 'walrus', 'another', 'tone,', 'contradicted', 'pieces.', 'before', 'angry', 'yards', 'more;', 'notion', \"business?'\", 'sighing.', 'gone.', 'denied,', 'rabbit;', 'appeared', 'beasts,', 'offer', '`crumbs', 'this,', 'fear', 'turtle:', 'is--\"take', 'uneasy:', 'producing', 'whose', 'forgot', \"lessons?'\", 'order', 'do:', 'sigh,', 'woke', \"sea--'\", 'cook.', 'dancing', 'cardboard.)', 'arm', 'here', 'leaves,', 'fast', \"he?'\", 'music,', 'mischief,', 'paws', 'kills', '--but', 'distance', 'been', 'feeble,', '`nearly', 'use,', 'sight,', 'uncomfortable.', 'wood,', 'could,', \"up.'\", 'evidently', 'pie', \"not!'\", 'race', 'stay', 'flower-beds', 'pretending', 'forwards', 'interrupted.', \"haven't\", 'simply', 'earnestly,', 'mabel', 'ii', 'oh', 'swallowing', \"porpoise.'\", 'cake.', \"kind,'\", 'condemn', 'good-naturedly', \"trying--'\", 'many', 'jury-box', \"all,'\", 'wings.', 'sea', 'violently,', 'seem', \"down,'\", 'interrupt', 'odd', 'pleasing', 'on!\"', \"to-day.'\", 'avoid', \"cards!'\", \"on!'\", 'fish)--and', \"yourself,'\", 'far,', 'slippery;', 'in.', \"`treacle,'\", \"think!'\", 'frontispiece', \"day--'\", 'subdued', 'her,', 'retire', 'both', 'limbs', 'late,', 'pictured', 'longed', 'done.', \"`never!'\", 'thought.', 'attempt', 'love).', 'say.', 'crossed', 'words:--', \"like,'\", 'could.', 'bats?', 'fix', '`first', 'dogs', 'name,', '`herald,', 'ran,', \"throat,'\", 'punished', 'branches,', 'bite.', 'ago:', 'directions,', \"hadn't\", 'quiet', 'chimney?--nay,', 'stool', \"thing!'\", \"i,'\", \"croquet.'\", 'jaws', 'cook,', '`\"--found', 'arrived,', 'alice,', 'majesty', 'jury', 'patiently.', 'burning', 'knocking,', '\"how', 'tie', 'courtiers;', '\"let', 'cool', 'laid', 'noises,', 'viii', \"ache!'\", 'twinkle,', 'drink', 'measure', 'kindly,', 'kept', 'cartwheels,', \"them,'\", 'watched', '`oh,', \"execution.'\", 'supple', '`does', 'appeared;', 'remained', 'quicker.', \"can,'\", 'nine', 'cards,', \"nonsense!'\", 'started', \"`there's\", 'mean', 'chrysalis--you', 'way', 'loudly', 'expected:', \"different,'\", 'party', 'eager', 'hearts.', 'passage,', 'friend.', 'wonderland,', 'solemnly,', 'flamingo.', 'about.', \"mind!'\", 'last:', \"again,'\", 'confusing', \"elbow.'\", 'fact,', 'belt', 'rock,', 'bit.', '`eat', 'meaning', 'saying', 'followed', 'was)', 'merrily', \"minute!'\", '`you', 'ink,', 'escape', \"days.'\", \"from?'\", 'began:--', 'hate', 'thought:', 'shining', \"uglifying!'\", 'hookah,', 'yet--oh!', 'plates,', 'timidly:', '--come,', 'way?', \"this!'\", 'again;', 'riddles', 'seaography:', 'bark', 'laughing', \"mouse's\", 'key;', 'favoured', 'lives', 'produced', 'girls', 'dive', 'childhood:', 'concert', 'hedgehogs,', \"croquet?'\", 'began,', 'appealed', 'dormouse', 'small', 'hare', 'chains,', 'dainties', 'some', 'calmly,', 'singers', 'doubt:', 'history.', 'thump!', 'serpent,', 'likely', \"`i--i'm\", 'did.', \"advantage,'\", '`whoever', 'anything,', 'see\"!\\'', '(in', 'ought!', 'kindly', 'players', 'now!', 'pretexts', 'crumbs', 'becoming.', 'impossible.', 'highest', \"footman's\", 'other:', 'pennyworth', 'attended', 'choking', 'whispered', 'poker', \"breathe.'\", \"cats.'\", 'them--all', \"too.'\", 'hand,', 'zigzag,', 'over,', 'took', 'ear', 'indeed.', 'again!', 'neck,', 'suppose,', 'twice', \"enough.'\", 'uglify', 'uneasily', 'begged', 'wants', 'resting', 'deep,', '`\"miss', 'custard,', \"shiny?'\", 'ugly;', 'hand.', 'blew', 'like:', 'soon', 'life,', 'beasts', 'broke', 'rule,', \"two!'\", 'empty:', '`chop', 'so.', \"about!'\", 'ann!', 'swam', 'hastily,', 'matters', 'managing', 'dreamed', 'taller', 'rule:', \"pie--'\", \"guilt,'\", 'players,', \"muchness?'\", \"removed!'\", \"then?'\", 'him!', 'on,', 'far', \"dinah'll\", 'sits', 'yawning.', 'book', \"`yes,'\", 'long;', 'earth.', 'something', 'stupidest', '\"there\\'s', 'writing-desks,', 'grins', 'position', 'queen', 'tiny', 'caught', 'sure', 'struck', \"m?'\", 'grinned;', 'trot', \"`they're\", '`only,', 'its', 'five,', 'side', 'face.', 'lost,', 'played', '`serpent,', \"growling,'\", 'processions;', '`curiouser', 'once;', 'form', 'uncomfortable,', 'hedgehog,', 'afraid,', 'witness', '`one', 'it!--that', '`very', \"`ahem!'\", 'bag,', 'quarrel', 'ways', \"she,'\", 'carried', \"grunt,'\", 'passion.', '`come,', 'rabbits.', 'one', 'about;', 'is,', \"he'll\", \"sobbing,'\", 'stretching', \"alice's,\", \"plan!'\", '`who', 'flock', \"savage!'\", 'hearing', \"giddy.'\", \"talk,'\", 'advisable', 'glad', 'yourself,', 'mile', 'this:--', 'crowd', 'blacking,', \"ground.'\", 'caterpillar', 'inwards,', \"him.'\", 'flapper', 'marked', 'hunting', '`where', 'reality--the', \"lizard's\", '`lives', 'asked,', \"`important,'\", 'drop', 'burnt,', 'writing', 'lobster', \"jurors.'\", \"all?'\", 'impatiently,', 'doing', 'seem,', 'you.', 'advance!', 'bone', '`seven', '`now', 'told', 'tidy', 'alive', 'time!', '`\"will', \"spot.'\", \"figure!'\", 'fell', 'keeping', 'howling', 'other--bill!', 'other.', 'roughly', 'fighting', 'tone', 'quarrelled', 'dinah', 'cherry-tart,', 'attempts', 'lizard', 'court;', 'grew', 'contemptuous', 'content', \"stairs!'\", 'growls', 'his', 'concluded', \"man,'\", 'guinea-pig,', 'minding', \"`it'll\", '`however,', '`nobody', 'question.', 'nor', 'gently', 'room!', 'accustomed', 'three-legged', 'feet!', 'wandering,', 'farmer,', 'recognised', \"i!'\", 'sadly.', 'green', 'life.', \"chose,'\", 'mouse,', 'fly', 'seen,', 'excellent', 'soup.', 'lasted.)', 'remember', 'lay', 'tinkling', 'vegetable.', 'note-book', 'eaglet', 'table,', 'right,', 'please!', 'ready', 'longitude', 'anything', 'minutes', 'rome--no,', 'shepherd', 'clasped', 'regular', \"treacle,'\", 'waited.', \"liked.'\", 'youth,', 'temper.', 'room.', 'smaller,', 'comfortable,', 'nurse', 'holding,', 'said.', 'maps', 'signify:', 'really', \"dogs.'\", 'nose,', \"not.'\", 'behind', 'slates;', 'earnestly.', 'finish', 'wondered', 'pig,', 'adventures', '`shall', 'altogether;', 'pie-crust,', \"dream!'\", '`reeling', 'sternly.', 'appearing', 'cackled', \"dormouse!'\", 'what?', 'wink', 'unhappy.', 'none', 'capital', 'drew', 'fifth', 'silent,', 'court', '(`the', \"hatter's\", 'done,', 'fact.', 'conversation.', 'nasty,', \"lessons,'\", '`from', 'raving', 'pieces', \"caucus-race?'\", 'first,', 'fair', 'tears.', 'punching', \"somewhere,'\", 'hatter,', 'play', \"serpent!'\", 'you:', 'seen', \"begun.'\", 'called', 'spoon:', \"`everything's\", '`do', 'dressed,', 'down--here,', 'severity;', 'occasionally;', 'eyelids,', 'sob,', 'flamingo:', 'dormouse!', \"way--'\", 'here.', 'them:', 'i', \"with,'\", 'hers', 'with;', 'world', \"`they--you've\", 'gryphon,', \"temper!'\", \"`i'm\", \"not,'\", 'free,', 'certain', 'speaking', '`an', \"in.'\", 'fan,', 'was!', 'barrowful', 'floor:', \"things--'\", 'chorus', \"sort,'\", 'splashing', 'crown', 'questions', 'prizes.', 'look', 'sky.', 'listen.', '\"turtle', 'sure;', 'enjoy', '`fourteenth', 'second', 'sobbing', \"all!'\", 'opened', \"now.'\", \"late.'\", 'result', \"choice!'\", 'remarks', \"more.'\", 'fender,', 'relief.', 'fury:', 'dormouse;', 'question', 'hatter:', 'gryphon', 'sense', 'piece', 'please:', 'words,', 'snappishly.', 'morals', \"moment's\", 'crowded', '`without', 'opposite', 'turtles', 'found:', 'kind', 'wherever', \"then!'\", \"words.'\", 'lowing', \"remember,'\", 'dinah!', 'it),', 'neck', 'adventures,', 'met', 'pressing', \"was.'\", 'been,', 'five.', \"child?'\", \"the--'\", 'mabel,', 'beds', 'eats', 'manage', 'actually', 'picking', 'them', 'grin,', \"lower,'\", '`why,', 'are!', \"be.'\", 'cheshire', 'laugh;', 'rose', \"coming!'\", 'shiver.', 'houses,', 'tied', 'slate', 'lie', \"happen,'\", 'frowning', 'instance,', 'kitchen', 'making', 'faces', 'until', '`to', '`with', 'close', 'roared', 'joined', 'feeling', 'within--a', \"`she's\", 'roof', 'furrows;', 'find', 'duck', 'story', 'country', 'now,', 'lifted', 'busy', 'hours', 'seriously,', 'hookah', 'speak--and', 'knew)', \"i'd\", 'being', 'editions', 'terrier,', 'howled', 'fun', \"draw,'\", 'among', 'jurymen.', 'rest', \"sh!'\", 'break.', 'happen:', 'hall,', \"begin.'\", \"words,'\", 'gravely.', 'all,', 'farther', 'again,', 'live', 'dear!\"', 'explain', 'breath.\"', 'morning,', \"australia?'\", 'yelled', '\"keep', 'protection.', 'setting', 'she,', 'window,', \"`no,'\", 'on', 'encouraging', 'without', 'wild', \"lesson-books!'\", '`here!', 'sent', 'do:--', 'jumping', 'him.', 'child;', 'bursting', 'woman;', 'lory', \"course.'\", 'puffed', 'slate.', \"rate,'\", 'thoughtfully', '`that', 'boy,', \"behind?'\", 'things', 'door.', \"writing-desk?'\", 'from:', 'more:', 'ravens', \"garden!'\", 'energetic', 'sister,', 'day:', 'enough,', 'green,', \"any,'\", 'miles', \"see.'\", 'bear:', 'noticed,', 'mark', \"youth,'\", 'delighted', 'foot', 'fur', 'nevertheless', 'day!', 'authority', '(`which', 'leaders,', 'sweet-tempered.', 'door,', 'already', 'where', 'sands', '`in', \"well?'\", 'finished', 'it!', 'lovely', 'work', 'wag', 'moderate.', 'away.', '`some', 'ma', 'toast,)', 'us', 'waste', 'curious,', 'over.', 'round', 'sending', 'wasting', 'confusion', \"game.'\", 'silence,', 'rich', 'subject.', \"it!'\", 'chin.', 'together.', 'then;', \"of?'\", 'rate:', 'hatters', 'm,', 'sleep,', \"myself,'\", 'camomile', '`well!', 'now.', 'rippling', 'glanced', '(and', \"sing?'\", 'branch', \"life!'\", 'hedgehog.', 'pope,', 'king:', 'something,', 'like,', 'begins', 'singing', 'ours', 'sense,', 'murdering', 'it,', 'master,', 'footman,', 'else\"--but,', 'lefthand', 'poor', 'sighed', 'then--i', 'curiosity,', 'one;', 'interesting.', '`never', 'mentioned', 'startled', \"are,'\", \"`moral,'\", 'days.', 'herself.', 'hard', 'pronounced', \"feet!'\", 'grow', '`--you', 'closed', \"`'tis\", 'creatures,', 'morning', 'here?', 'except', 'executed,', 'shaped', \"we've\", 'burn', 'off).', 'passionate', 'escape;', 'saw', '(when', 'pleased.', 'executes', \"ask.'\", '\"--said', 'knee.', 'older', '`no', 'denies', \"rabbit'\", 'hall;', \"haven't,'\", \"it.'\", \"do!'\", 'questions.--how', 'politely,', \"bite,'\", 'forepaws', \"people,'\", \"conqueror.'\", 'knee', \"case,'\", 'stand,', 'rule', 'replied,', 'trials,', 'follows:--', 'does,', \"he's\", 'candle', \"speak?'\", \"thing,'\", 'myself', 'tumbled', \"wonder?'\", 'feeble', \"were,'\", \"and-butter--'\", \"did,'\", 'door--', 'sister', '(as', 'it,)', 'pattern', 'ask:', 'footsteps', 'soup!', \"better,'\", 'northumbria--\"\\'', '`found', \"dance,'\", 'heads', 'emphasis,', 'continued', 'right', 'pair', 'clock.', 'bill', 'roof.', 'humbly:', 'blows', 'oblong', 'hare.', \"opinion,'\", 'rude,', 'spoke.', 'quick,', 'bowing', \"duchess,'\", 'riddle', 'sharply.', 'lessen', 'it--once', 'beg', \"right,'\", 'stand', 'child', '(he', 'latitude', 'anything.', 'nothing', 'him', 'went,', 'half', 'cried', 'softly', \"king,'\", \"suppose.'\", \"wine,'\", \"all.'\", 'conversation', 'leaves.', 'wrapping', 'mournful', 'sleep', '`he', 'line', 'first', 'alice.', 'idea', 'finds', 'knock,', 'sheep-', 'listen,', '(not', 'presented', 'hanging', 'never', 'remarking', 'know', \"dinah!'\", 'fetch', 'said', 'scroll,', 'pretty', 'nothing;', 'lost', 'sleepy;', 'precious', \"up,'\", 'screaming', 'growl', 'gloves--that', \"ill.'\", \"prizes.'\", \"again!'\", 'court,\"', 'certainly', \"water-well,'\"}\n",
      "Average sentence length: 7.4\n",
      "Vocabulary diversity: 0.1870\n"
     ]
    }
   ],
   "source": [
    "def assess_data_quality(texts):\n",
    "    \"\"\"Analyze text data quality for Word2Vec training\"\"\"\n",
    "\n",
    "    stats = {\n",
    "        'total_documents': len(texts),\n",
    "        'total_words': 0,\n",
    "        'unique_words': set(),\n",
    "        'sentence_lengths': [],\n",
    "        'word_frequencies': {}\n",
    "    }\n",
    "\n",
    "    for text in texts:\n",
    "        words = text.lower().split()\n",
    "        stats['total_words'] += len(words)\n",
    "        stats['sentence_lengths'].append(len(words))\n",
    "        stats['unique_words'].update(words)\n",
    "\n",
    "        for word in words:\n",
    "            stats['word_frequencies'][word] = stats['word_frequencies'].get(word, 0) + 1\n",
    "\n",
    "    stats['vocabulary_size'] = len(stats['unique_words'])\n",
    "    stats['avg_sentence_length'] = sum(stats['sentence_lengths']) / len(stats['sentence_lengths'])\n",
    "\n",
    "    # Find most common words\n",
    "    sorted_words = sorted(stats['word_frequencies'].items(), key=lambda x: x[1], reverse=True)\n",
    "    stats['top_words'] = sorted_words[:20]\n",
    "\n",
    "    # Quality indicators\n",
    "    stats['quality_score'] = {\n",
    "        'vocabulary_diversity': stats['vocabulary_size'] / stats['total_words'],\n",
    "        'avg_word_frequency': stats['total_words'] / stats['vocabulary_size'],\n",
    "        'rare_words_ratio': sum(1 for count in stats['word_frequencies'].values() if count == 1) / stats['vocabulary_size']\n",
    "    }\n",
    "\n",
    "    return stats\n",
    "\n",
    "# Example usage\n",
    "quality_report = assess_data_quality(texts)\n",
    "print(f\"Total documents: {quality_report['total_documents']:,}\")\n",
    "print(f\"Vocabulary size: {quality_report['vocabulary_size']:,}\")\n",
    "print(f\"Unique Words: {quality_report['unique_words']}\")\n",
    "print(f\"Average sentence length: {quality_report['avg_sentence_length']:.1f}\")\n",
    "print(f\"Vocabulary diversity: {quality_report['quality_score']['vocabulary_diversity']:.4f}\")"
   ]
  },
  {
   "cell_type": "markdown",
   "id": "27d5a0c3",
   "metadata": {},
   "source": [
    "## Section 2: Text Preprocessing Pipeline"
   ]
  },
  {
   "cell_type": "code",
   "execution_count": 7,
   "id": "ba97f3e6",
   "metadata": {},
   "outputs": [],
   "source": [
    "#Import Packages\n",
    "import re\n",
    "import string\n",
    "from nltk.corpus import stopwords\n",
    "from nltk.tokenize import word_tokenize, sent_tokenize\n",
    "from nltk.stem import WordNetLemmatizer\n",
    "from nltk.tag import pos_tag\n",
    "import nltk"
   ]
  },
  {
   "cell_type": "code",
   "execution_count": 8,
   "id": "acb690cd",
   "metadata": {},
   "outputs": [
    {
     "name": "stderr",
     "output_type": "stream",
     "text": [
      "[nltk_data] Downloading package punkt to\n",
      "[nltk_data]     /Users/chimigyeltshen/nltk_data...\n",
      "[nltk_data]   Package punkt is already up-to-date!\n",
      "[nltk_data] Downloading package stopwords to\n",
      "[nltk_data]     /Users/chimigyeltshen/nltk_data...\n",
      "[nltk_data]   Package stopwords is already up-to-date!\n",
      "[nltk_data] Downloading package wordnet to\n",
      "[nltk_data]     /Users/chimigyeltshen/nltk_data...\n",
      "[nltk_data]   Package wordnet is already up-to-date!\n",
      "[nltk_data] Downloading package averaged_perceptron_tagger to\n",
      "[nltk_data]     /Users/chimigyeltshen/nltk_data...\n",
      "[nltk_data]   Package averaged_perceptron_tagger is already up-to-\n",
      "[nltk_data]       date!\n",
      "[nltk_data] Downloading package punkt_tab to\n",
      "[nltk_data]     /Users/chimigyeltshen/nltk_data...\n",
      "[nltk_data]   Package punkt_tab is already up-to-date!\n"
     ]
    },
    {
     "data": {
      "text/plain": [
       "True"
      ]
     },
     "execution_count": 8,
     "metadata": {},
     "output_type": "execute_result"
    }
   ],
   "source": [
    "# Download required NLTK data\n",
    "nltk.download('punkt')\n",
    "nltk.download('stopwords')\n",
    "nltk.download('wordnet')\n",
    "nltk.download('averaged_perceptron_tagger')\n",
    "nltk.download('punkt_tab')"
   ]
  },
  {
   "cell_type": "code",
   "execution_count": 9,
   "id": "c8c7ebd3",
   "metadata": {},
   "outputs": [],
   "source": [
    "class AdvancedTextPreprocessor:\n",
    "    \"\"\"Comprehensive text preprocessing for Word2Vec training\"\"\"\n",
    "\n",
    "    def __init__(self,\n",
    "                 lowercase=True,\n",
    "                 remove_punctuation=True,\n",
    "                 remove_numbers=False,\n",
    "                 remove_stopwords=False,\n",
    "                 min_word_length=2,\n",
    "                 max_word_length=50,\n",
    "                 lemmatize=False,\n",
    "                 remove_urls=True,\n",
    "                 remove_emails=True,\n",
    "                 keep_sentences=True):\n",
    "\n",
    "        self.lowercase = lowercase\n",
    "        self.remove_punctuation = remove_punctuation\n",
    "        self.remove_numbers = remove_numbers\n",
    "        self.remove_stopwords = remove_stopwords\n",
    "        self.min_word_length = min_word_length\n",
    "        self.max_word_length = max_word_length\n",
    "        self.lemmatize = lemmatize\n",
    "        self.remove_urls = remove_urls\n",
    "        self.remove_emails = remove_emails\n",
    "        self.keep_sentences = keep_sentences\n",
    "\n",
    "        if remove_stopwords:\n",
    "            self.stop_words = set(stopwords.words('english'))\n",
    "\n",
    "        if lemmatize:\n",
    "            self.lemmatizer = WordNetLemmatizer()\n",
    "\n",
    "    def clean_text(self, text):\n",
    "        \"\"\"Clean individual text string\"\"\"\n",
    "\n",
    "        # Remove URLs\n",
    "        if self.remove_urls:\n",
    "            text = re.sub(r'http\\S+|www\\S+|https\\S+', '', text, flags=re.MULTILINE)\n",
    "\n",
    "        # Remove email addresses\n",
    "        if self.remove_emails:\n",
    "            text = re.sub(r'\\S+@\\S+', '', text)\n",
    "\n",
    "        # Remove extra whitespace\n",
    "        text = re.sub(r'\\s+', ' ', text).strip()\n",
    "\n",
    "        #Combined\n",
    "         #(r'https?://\\S+|www\\.\\S+|<.*?>|\\S+@\\S+\\.\\S+|@\\w+|#\\w+|[^A-Za-z0-9\\s])\n",
    "\n",
    "        return text\n",
    "\n",
    "    def tokenize_text(self, text):\n",
    "        \"\"\"Tokenize text into sentences or words\"\"\"\n",
    "\n",
    "        if self.keep_sentences:\n",
    "            # Tokenize into sentences first\n",
    "            sentences = sent_tokenize(text)\n",
    "            processed_sentences = []\n",
    "\n",
    "            for sentence in sentences:\n",
    "                words = self.process_sentence(sentence)\n",
    "                if len(words) >= 3:  # Keep sentences with at least 3 words\n",
    "                    processed_sentences.append(words)\n",
    "\n",
    "            return processed_sentences\n",
    "        else:\n",
    "            # Return single list of words\n",
    "            return self.process_sentence(text)\n",
    "\n",
    "    def process_sentence(self, sentence):\n",
    "        \"\"\"Process individual sentence\"\"\"\n",
    "\n",
    "        # Lowercase\n",
    "        if self.lowercase:\n",
    "            sentence = sentence.lower()\n",
    "\n",
    "        # Tokenize into words\n",
    "        words = word_tokenize(sentence)\n",
    "\n",
    "        processed_words = []\n",
    "        for word in words:\n",
    "\n",
    "            # Remove punctuation\n",
    "            if self.remove_punctuation:\n",
    "                word = word.translate(str.maketrans('', '', string.punctuation))\n",
    "\n",
    "            # Skip if empty after punctuation removal\n",
    "            if not word:\n",
    "                continue\n",
    "\n",
    "            # Remove numbers\n",
    "            if self.remove_numbers and word.isdigit():\n",
    "                continue\n",
    "\n",
    "            # Check word length\n",
    "            if len(word) < self.min_word_length or len(word) > self.max_word_length:\n",
    "                continue\n",
    "\n",
    "            # Remove stopwords\n",
    "            if self.remove_stopwords and word in self.stop_words:\n",
    "                continue\n",
    "\n",
    "            # Lemmatize\n",
    "            if self.lemmatize:\n",
    "                word = self.lemmatizer.lemmatize(word)\n",
    "\n",
    "            processed_words.append(word)\n",
    "\n",
    "        return processed_words\n",
    "\n",
    "    def preprocess_corpus(self, texts):\n",
    "        \"\"\"Preprocess entire corpus\"\"\"\n",
    "\n",
    "        all_sentences = []\n",
    "\n",
    "        for text in texts:\n",
    "            if not isinstance(text, str):\n",
    "                continue\n",
    "\n",
    "            # Clean text\n",
    "            cleaned_text = self.clean_text(text)\n",
    "\n",
    "            # Tokenize and process\n",
    "            processed = self.tokenize_text(cleaned_text)\n",
    "\n",
    "            if self.keep_sentences:\n",
    "                all_sentences.extend(processed)\n",
    "            else:\n",
    "                all_sentences.append(processed)\n",
    "\n",
    "        return all_sentences"
   ]
  },
  {
   "cell_type": "code",
   "execution_count": 10,
   "id": "5928f0cd",
   "metadata": {},
   "outputs": [
    {
     "name": "stdout",
     "output_type": "stream",
     "text": [
      "Processed 2941 sentences\n",
      "Sample sentence: ['alice', 'adventures', 'in', 'wonderland']\n"
     ]
    }
   ],
   "source": [
    "# Example usage\n",
    "preprocessor = AdvancedTextPreprocessor(\n",
    "    lowercase=True,\n",
    "    remove_punctuation = True,\n",
    "    remove_numbers=True,\n",
    "    remove_stopwords=False,  # Keep stopwords for Word2Vec\n",
    "    lemmatize=False,  # Usually not needed for Word2Vec\n",
    "    keep_sentences=True\n",
    ")\n",
    "\n",
    "# Processing corpus\n",
    "processed_sentences = preprocessor.preprocess_corpus(texts)\n",
    "print(f\"Processed {len(processed_sentences)} sentences\")\n",
    "print(f\"Sample sentence: {processed_sentences[0]}\")"
   ]
  },
  {
   "cell_type": "code",
   "execution_count": 11,
   "id": "da8c84dd",
   "metadata": {},
   "outputs": [
    {
     "data": {
      "text/plain": [
       "[['alice', 'adventures', 'in', 'wonderland'],\n",
       " ['the', 'millennium', 'fulcrum', 'edition'],\n",
       " ['down', 'the', 'rabbithole']]"
      ]
     },
     "execution_count": 11,
     "metadata": {},
     "output_type": "execute_result"
    }
   ],
   "source": [
    "processed_sentences[:3]"
   ]
  },
  {
   "cell_type": "markdown",
   "id": "97e615b4",
   "metadata": {},
   "source": [
    "## Training Parameters\n",
    "\n",
    "Parameters Selection Guidelines"
   ]
  },
  {
   "cell_type": "code",
   "execution_count": 12,
   "id": "5efdef60",
   "metadata": {},
   "outputs": [],
   "source": [
    "def recommend_parameters(corpus_size, vocab_size, domain_type, computing_resources):\n",
    "    \"\"\"\n",
    "    Recommend Word2Vec parameters based on corpus characteristics\n",
    "\n",
    "    Args:\n",
    "        corpus_size: Number of sentences/documents\n",
    "        vocab_size: Unique words in vocabulary\n",
    "        domain_type: 'general', 'technical', 'social_media', 'academic'\n",
    "        computing_resources: 'limited', 'moderate', 'high'\n",
    "    \"\"\"\n",
    "\n",
    "    recommendations = {}\n",
    "\n",
    "    # Vector size based on corpus and vocab size\n",
    "    if corpus_size < 10000:\n",
    "        recommendations['vector_size'] = 50\n",
    "    elif corpus_size < 100000:\n",
    "        recommendations['vector_size'] = 100\n",
    "    elif corpus_size < 1000000:\n",
    "        recommendations['vector_size'] = 200\n",
    "    else:\n",
    "        recommendations['vector_size'] = 300\n",
    "\n",
    "    # Window size based on domain\n",
    "    domain_windows = {\n",
    "        'general': 5,\n",
    "        'technical': 3,  # More syntactic focus\n",
    "        'social_media': 4,\n",
    "        'academic': 6    # More semantic focus\n",
    "    }\n",
    "    recommendations['window'] = domain_windows.get(domain_type, 5)\n",
    "\n",
    "    # Min count based on corpus size\n",
    "    if corpus_size < 10000:\n",
    "        recommendations['min_count'] = 1\n",
    "    elif corpus_size < 100000:\n",
    "        recommendations['min_count'] = 2\n",
    "    elif corpus_size < 1000000:\n",
    "        recommendations['min_count'] = 5\n",
    "    else:\n",
    "        recommendations['min_count'] = 10\n",
    "\n",
    "    # Algorithm selection\n",
    "    if domain_type in ['technical', 'academic']:\n",
    "        recommendations['sg'] = 1  # Skip-gram for rare technical terms\n",
    "    else:\n",
    "        recommendations['sg'] = 0  # CBOW for general text\n",
    "\n",
    "    # Epochs based on corpus size and resources\n",
    "    if computing_resources == 'limited':\n",
    "        recommendations['epochs'] = 5\n",
    "    elif corpus_size < 100000:\n",
    "        recommendations['epochs'] = 15\n",
    "    else:\n",
    "        recommendations['epochs'] = 10\n",
    "\n",
    "    # Hierarchical softmax vs negative sampling\n",
    "    if vocab_size > 100000:\n",
    "        recommendations['hs'] = 1\n",
    "        recommendations['negative'] = 0\n",
    "    else:\n",
    "        recommendations['hs'] = 0\n",
    "        recommendations['negative'] = 10\n",
    "\n",
    "    return recommendations"
   ]
  },
  {
   "cell_type": "code",
   "execution_count": 13,
   "id": "77a10570",
   "metadata": {},
   "outputs": [
    {
     "name": "stdout",
     "output_type": "stream",
     "text": [
      "Corpus Size: 2941\n",
      "Vocabulary Size: 2519\n"
     ]
    }
   ],
   "source": [
    "corpus_size = len(processed_sentences)\n",
    "print(f\"Corpus Size: {corpus_size}\")\n",
    "\n",
    "# Calculate vocabulary size (unique words in vocabulary)\n",
    "vocab = set(word for sentence in processed_sentences for word in sentence)\n",
    "vocab_size = len(vocab)\n",
    "print(f\"Vocabulary Size: {vocab_size}\")"
   ]
  },
  {
   "cell_type": "code",
   "execution_count": 14,
   "id": "93813b6b",
   "metadata": {},
   "outputs": [
    {
     "name": "stdout",
     "output_type": "stream",
     "text": [
      "Recommended parameters: {'vector_size': 50, 'window': 5, 'min_count': 1, 'sg': 0, 'epochs': 15, 'hs': 0, 'negative': 10}\n"
     ]
    }
   ],
   "source": [
    "# For this task\n",
    "params = recommend_parameters(\n",
    "    corpus_size=corpus_size,\n",
    "    vocab_size=vocab_size,\n",
    "    domain_type='general',\n",
    "    computing_resources='moderate'\n",
    ")\n",
    "print(\"Recommended parameters:\", params)"
   ]
  },
  {
   "cell_type": "markdown",
   "id": "a6ffc1d3",
   "metadata": {},
   "source": [
    "## Step-by-Step Implementation\n",
    "\n",
    "Basic Training Implementation"
   ]
  },
  {
   "cell_type": "code",
   "execution_count": 2,
   "id": "77dfaf3d",
   "metadata": {},
   "outputs": [
    {
     "name": "stdout",
     "output_type": "stream",
     "text": [
      "Collecting gensim\n",
      "  Using cached gensim-4.3.3.tar.gz (23.3 MB)\n",
      "  Installing build dependencies ... \u001b[?25ldone\n",
      "\u001b[?25h  Getting requirements to build wheel ... \u001b[?25ldone\n",
      "\u001b[?25h  Preparing metadata (pyproject.toml) ... \u001b[?25ldone\n",
      "\u001b[?25hCollecting numpy<2.0,>=1.18.5 (from gensim)\n",
      "  Using cached numpy-1.26.4.tar.gz (15.8 MB)\n",
      "  Installing build dependencies ... \u001b[?25ldone\n",
      "\u001b[?25h  Getting requirements to build wheel ... \u001b[?25ldone\n",
      "\u001b[?25h  Installing backend dependencies ... \u001b[?25ldone\n",
      "\u001b[?25h  Preparing metadata (pyproject.toml) ... \u001b[?25ldone\n",
      "\u001b[?25hCollecting scipy<1.14.0,>=1.7.0 (from gensim)\n",
      "  Using cached scipy-1.13.1.tar.gz (57.2 MB)\n",
      "  Installing build dependencies ... \u001b[?25ldone\n",
      "\u001b[?25h  Getting requirements to build wheel ... \u001b[?25ldone\n",
      "\u001b[?25h  Installing backend dependencies ... \u001b[?25ldone\n",
      "\u001b[?25h  Preparing metadata (pyproject.toml) ... \u001b[?25lerror\n",
      "  \u001b[1;31merror\u001b[0m: \u001b[1msubprocess-exited-with-error\u001b[0m\n",
      "  \n",
      "  \u001b[31m×\u001b[0m \u001b[32mPreparing metadata \u001b[0m\u001b[1;32m(\u001b[0m\u001b[32mpyproject.toml\u001b[0m\u001b[1;32m)\u001b[0m did not run successfully.\n",
      "  \u001b[31m│\u001b[0m exit code: \u001b[1;36m1\u001b[0m\n",
      "  \u001b[31m╰─>\u001b[0m \u001b[31m[46 lines of output]\u001b[0m\n",
      "  \u001b[31m   \u001b[0m \u001b[36m\u001b[1m+ meson setup /private/var/folders/sg/8vck8g0n4mb30sy3w5brlfcw0000gn/T/pip-install-2b3qjej6/scipy_c6a9139524ad4ebc916964b6cde42bc7 /private/var/folders/sg/8vck8g0n4mb30sy3w5brlfcw0000gn/T/pip-install-2b3qjej6/scipy_c6a9139524ad4ebc916964b6cde42bc7/.mesonpy-cbk4t6ev -Dbuildtype=release -Db_ndebug=if-release -Db_vscrt=md --native-file=/private/var/folders/sg/8vck8g0n4mb30sy3w5brlfcw0000gn/T/pip-install-2b3qjej6/scipy_c6a9139524ad4ebc916964b6cde42bc7/.mesonpy-cbk4t6ev/meson-python-native-file.ini\u001b[0m\n",
      "  \u001b[31m   \u001b[0m The Meson build system\n",
      "  \u001b[31m   \u001b[0m Version: 1.9.0\n",
      "  \u001b[31m   \u001b[0m Source dir: /private/var/folders/sg/8vck8g0n4mb30sy3w5brlfcw0000gn/T/pip-install-2b3qjej6/scipy_c6a9139524ad4ebc916964b6cde42bc7\n",
      "  \u001b[31m   \u001b[0m Build dir: /private/var/folders/sg/8vck8g0n4mb30sy3w5brlfcw0000gn/T/pip-install-2b3qjej6/scipy_c6a9139524ad4ebc916964b6cde42bc7/.mesonpy-cbk4t6ev\n",
      "  \u001b[31m   \u001b[0m Build type: native build\n",
      "  \u001b[31m   \u001b[0m Project name: scipy\n",
      "  \u001b[31m   \u001b[0m Project version: 1.13.1\n",
      "  \u001b[31m   \u001b[0m C compiler for the host machine: cc (clang 17.0.0 \"Apple clang version 17.0.0 (clang-1700.0.13.5)\")\n",
      "  \u001b[31m   \u001b[0m C linker for the host machine: cc ld64 1167.5\n",
      "  \u001b[31m   \u001b[0m C++ compiler for the host machine: c++ (clang 17.0.0 \"Apple clang version 17.0.0 (clang-1700.0.13.5)\")\n",
      "  \u001b[31m   \u001b[0m C++ linker for the host machine: c++ ld64 1167.5\n",
      "  \u001b[31m   \u001b[0m Cython compiler for the host machine: cython (cython 3.0.12)\n",
      "  \u001b[31m   \u001b[0m Host machine cpu family: aarch64\n",
      "  \u001b[31m   \u001b[0m Host machine cpu: aarch64\n",
      "  \u001b[31m   \u001b[0m Program python found: YES (/Users/chimigyeltshen/Desktop/Sem5/DAM202/practical/Practicals/p-venv/bin/python)\n",
      "  \u001b[31m   \u001b[0m Did not find pkg-config by name 'pkg-config'\n",
      "  \u001b[31m   \u001b[0m Found pkg-config: NO\n",
      "  \u001b[31m   \u001b[0m Run-time dependency python found: YES 3.13\n",
      "  \u001b[31m   \u001b[0m Program cython found: YES (/private/var/folders/sg/8vck8g0n4mb30sy3w5brlfcw0000gn/T/pip-build-env-ysuuxdw2/overlay/bin/cython)\n",
      "  \u001b[31m   \u001b[0m Compiler for C supports arguments -Wno-unused-but-set-variable: YES\n",
      "  \u001b[31m   \u001b[0m Compiler for C supports arguments -Wno-unused-function: YES\n",
      "  \u001b[31m   \u001b[0m Compiler for C supports arguments -Wno-conversion: YES\n",
      "  \u001b[31m   \u001b[0m Compiler for C supports arguments -Wno-misleading-indentation: YES\n",
      "  \u001b[31m   \u001b[0m Library m found: YES\n",
      "  \u001b[31m   \u001b[0m Fortran compiler for the host machine: gfortran (gcc 15.1.0 \"GNU Fortran (Homebrew GCC 15.1.0) 15.1.0\")\n",
      "  \u001b[31m   \u001b[0m Fortran linker for the host machine: gfortran ld64 1167.5\n",
      "  \u001b[31m   \u001b[0m Compiler for Fortran supports arguments -Wno-conversion: YES\n",
      "  \u001b[31m   \u001b[0m Compiler for C supports link arguments -Wl,-ld_classic: YES\n",
      "  \u001b[31m   \u001b[0m Checking if \"-Wl,--version-script\" links: NO\n",
      "  \u001b[31m   \u001b[0m Program pythran found: YES 0.15.0 0.15.0 (/private/var/folders/sg/8vck8g0n4mb30sy3w5brlfcw0000gn/T/pip-build-env-ysuuxdw2/overlay/bin/pythran)\n",
      "  \u001b[31m   \u001b[0m Did not find CMake 'cmake'\n",
      "  \u001b[31m   \u001b[0m Found CMake: NO\n",
      "  \u001b[31m   \u001b[0m Run-time dependency xsimd found: NO (tried pkgconfig, framework and cmake)\n",
      "  \u001b[31m   \u001b[0m Run-time dependency threads found: YES\n",
      "  \u001b[31m   \u001b[0m Library npymath found: YES\n",
      "  \u001b[31m   \u001b[0m Library npyrandom found: YES\n",
      "  \u001b[31m   \u001b[0m pybind11-config found: YES (/private/var/folders/sg/8vck8g0n4mb30sy3w5brlfcw0000gn/T/pip-build-env-ysuuxdw2/overlay/bin/pybind11-config) 2.12.1\n",
      "  \u001b[31m   \u001b[0m Run-time dependency pybind11 found: YES 2.12.1\n",
      "  \u001b[31m   \u001b[0m Run-time dependency scipy-openblas found: NO (tried pkgconfig)\n",
      "  \u001b[31m   \u001b[0m Run-time dependency openblas found: NO (tried pkgconfig, framework and cmake)\n",
      "  \u001b[31m   \u001b[0m Run-time dependency openblas found: NO (tried framework)\n",
      "  \u001b[31m   \u001b[0m \n",
      "  \u001b[31m   \u001b[0m ../scipy/meson.build:163:9: ERROR: Dependency lookup for OpenBLAS with method 'pkgconfig' failed: Pkg-config for machine host machine not found. Giving up.\n",
      "  \u001b[31m   \u001b[0m \n",
      "  \u001b[31m   \u001b[0m A full log can be found at /private/var/folders/sg/8vck8g0n4mb30sy3w5brlfcw0000gn/T/pip-install-2b3qjej6/scipy_c6a9139524ad4ebc916964b6cde42bc7/.mesonpy-cbk4t6ev/meson-logs/meson-log.txt\n",
      "  \u001b[31m   \u001b[0m \u001b[31m[end of output]\u001b[0m\n",
      "  \n",
      "  \u001b[1;35mnote\u001b[0m: This error originates from a subprocess, and is likely not a problem with pip.\n",
      "\u001b[?25h\u001b[1;31merror\u001b[0m: \u001b[1mmetadata-generation-failed\u001b[0m\n",
      "\n",
      "\u001b[31m×\u001b[0m Encountered error while generating package metadata.\n",
      "\u001b[31m╰─>\u001b[0m See above for output.\n",
      "\n",
      "\u001b[1;35mnote\u001b[0m: This is an issue with the package mentioned above, not pip.\n",
      "\u001b[1;36mhint\u001b[0m: See above for details.\n"
     ]
    }
   ],
   "source": [
    "!pip install gensim"
   ]
  },
  {
   "cell_type": "code",
   "execution_count": null,
   "id": "fe1b24e7",
   "metadata": {},
   "outputs": [
    {
     "name": "stdout",
     "output_type": "stream",
     "text": [
      "zsh:1: command not found: conda\n"
     ]
    }
   ],
   "source": []
  },
  {
   "cell_type": "code",
   "execution_count": 2,
   "id": "350123fb",
   "metadata": {},
   "outputs": [
    {
     "ename": "ModuleNotFoundError",
     "evalue": "No module named 'gensim'",
     "output_type": "error",
     "traceback": [
      "\u001b[31m---------------------------------------------------------------------------\u001b[39m",
      "\u001b[31mModuleNotFoundError\u001b[39m                       Traceback (most recent call last)",
      "\u001b[36mCell\u001b[39m\u001b[36m \u001b[39m\u001b[32mIn[2]\u001b[39m\u001b[32m, line 1\u001b[39m\n\u001b[32m----> \u001b[39m\u001b[32m1\u001b[39m \u001b[38;5;28;01mfrom\u001b[39;00m\u001b[38;5;250m \u001b[39m\u001b[34;01mgensim\u001b[39;00m\u001b[34;01m.\u001b[39;00m\u001b[34;01mmodels\u001b[39;00m\u001b[38;5;250m \u001b[39m\u001b[38;5;28;01mimport\u001b[39;00m Word2Vec\n\u001b[32m      2\u001b[39m \u001b[38;5;28;01mfrom\u001b[39;00m\u001b[38;5;250m \u001b[39m\u001b[34;01mgensim\u001b[39;00m\u001b[34;01m.\u001b[39;00m\u001b[34;01mmodels\u001b[39;00m\u001b[34;01m.\u001b[39;00m\u001b[34;01mcallbacks\u001b[39;00m\u001b[38;5;250m \u001b[39m\u001b[38;5;28;01mimport\u001b[39;00m CallbackAny2Vec\n\u001b[32m      3\u001b[39m \u001b[38;5;28;01mimport\u001b[39;00m\u001b[38;5;250m \u001b[39m\u001b[34;01mtime\u001b[39;00m\n",
      "\u001b[31mModuleNotFoundError\u001b[39m: No module named 'gensim'"
     ]
    }
   ],
   "source": [
    "from gensim.models import Word2Vec\n",
    "from gensim.models.callbacks import CallbackAny2Vec\n",
    "import time\n",
    "import multiprocessing\n",
    "\n",
    "class EpochLogger(CallbackAny2Vec):\n",
    "    \"\"\"Callback to log information about training progress\"\"\"\n",
    "\n",
    "    def __init__(self):\n",
    "        self.epoch = 0\n",
    "        self.start_time = time.time()\n",
    "\n",
    "    def on_epoch_begin(self, model):\n",
    "        print(f\"Epoch #{self.epoch} start\")\n",
    "\n",
    "    def on_epoch_end(self, model):\n",
    "        elapsed = time.time() - self.start_time\n",
    "        print(f\"Epoch #{self.epoch} end - Time elapsed: {elapsed:.2f}s\")\n",
    "        self.epoch += 1\n",
    "\n",
    "def train_word2vec_model(sentences, save_path=None, **params):\n",
    "    \"\"\"\n",
    "    Train Word2Vec model with given parameters\n",
    "\n",
    "    Args:\n",
    "        sentences: List of tokenized sentences\n",
    "        save_path: Path to save the model\n",
    "        **params: Word2Vec parameters\n",
    "    \"\"\"\n",
    "\n",
    "    # Set default parameters\n",
    "    default_params = {\n",
    "        'vector_size': 100,\n",
    "        'window': 5,\n",
    "        'min_count': 5,\n",
    "        'workers': multiprocessing.cpu_count() - 1,\n",
    "        'sg': 0,  # CBOW\n",
    "        'epochs': 10,\n",
    "        'alpha': 0.025,\n",
    "        'min_alpha': 0.0001,\n",
    "        'hs': 0,\n",
    "        'negative': 10\n",
    "    }\n",
    "\n",
    "    # Update with provided parameters\n",
    "    default_params.update(params)\n",
    "\n",
    "    print(\"Training Word2Vec model with parameters:\")\n",
    "    for key, value in default_params.items():\n",
    "        print(f\"  {key}: {value}\")\n",
    "\n",
    "    # Add callback for progress monitoring\n",
    "    epoch_logger = EpochLogger()\n",
    "\n",
    "    # Train the model\n",
    "    print(f\"\\nTraining on {len(sentences)} sentences...\")\n",
    "    start_time = time.time()\n",
    "\n",
    "    model = Word2Vec(\n",
    "        sentences=sentences,\n",
    "        callbacks=[epoch_logger],\n",
    "        **default_params\n",
    "    )\n",
    "\n",
    "    training_time = time.time() - start_time\n",
    "    print(f\"\\nTraining completed in {training_time:.2f} seconds\")\n",
    "    print(f\"Vocabulary size: {len(model.wv)} words\")\n",
    "\n",
    "    # Save model if path provided\n",
    "    if save_path:\n",
    "        model.save(save_path)\n",
    "        print(f\"Model saved to {save_path}\")\n",
    "\n",
    "    return model"
   ]
  },
  {
   "cell_type": "code",
   "execution_count": null,
   "id": "cb016d9f",
   "metadata": {},
   "outputs": [],
   "source": []
  }
 ],
 "metadata": {
  "kernelspec": {
   "display_name": "p-venv (3.13.3)",
   "language": "python",
   "name": "python3"
  },
  "language_info": {
   "codemirror_mode": {
    "name": "ipython",
    "version": 3
   },
   "file_extension": ".py",
   "mimetype": "text/x-python",
   "name": "python",
   "nbconvert_exporter": "python",
   "pygments_lexer": "ipython3",
   "version": "3.13.3"
  }
 },
 "nbformat": 4,
 "nbformat_minor": 5
}
